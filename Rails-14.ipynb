{
 "cells": [
  {
   "cell_type": "markdown",
   "metadata": {},
   "source": [
    "### CS424\n",
    "\n",
    "Prof. Götz Pfeiffer<br />\n",
    "School of Mathematics, Statistics and Applied Mathematics<br />\n",
    "NUI Galway"
   ]
  },
  {
   "cell_type": "markdown",
   "metadata": {},
   "source": [
    "# Lecture 14: Layouts - Templates - Partials"
   ]
  },
  {
   "cell_type": "markdown",
   "metadata": {
    "collapsed": true
   },
   "source": [
    "The View part of a Rails application takes care of composing appropriate responses to incoming requests.  If the response is to be a web page, \n",
    "written in HTML, its content is mainly determined by the view template\n",
    "that forms part of the current action.\n",
    "\n",
    "In fact, Rails composes web pages from **three** different types of\n",
    "sources:\n",
    "\n",
    "* **layouts**: to give a set of web pages a consistent look,\n",
    "by providing standard pieces of HTML for the top and bottom\n",
    "of each page.  By default, all pages controlled by a given **controller**\n",
    "share the same layout.  In the absense of a controller specific layout\n",
    "the application wide layout will be used.\n",
    "\n",
    "* **templates**: to provide the main dynamic content of the web page.\n",
    "Each template is part of an **action**.\n",
    "\n",
    "* **partials**: to break a complex view into more manageable chunks.\n",
    "A partials acts like a subroutine, it has a name and can have parameters.  Partials can be used to encapsulate logically independent\n",
    "parts of a view in their own file, and the reduce repetition."
   ]
  },
  {
   "cell_type": "markdown",
   "metadata": {},
   "source": [
    "## Partials"
   ]
  },
  {
   "cell_type": "markdown",
   "metadata": {},
   "source": [
    "Fragments of web pages can be stored in partial page templates (or\n",
    "**partials**, for short).\n",
    "\n",
    "* partials are embedded `ruby` files.\n",
    "\n",
    "* A partial's file name begins with an underscore (`_`),\n",
    "e.g. `_line_item.html.erb`, to distinguish them from regular views.\n",
    "\n",
    "* The partial's name, however, is that filename **without**\n",
    "the leading undescore, e.g., `\"line_item\"`, even if the partial\n",
    "sits in another folder.\n",
    "\n",
    "* A template includes a partial with the `render` method,\n",
    "e.g., `<%= render partial: \"line_item\" %>`.\n",
    "\n",
    "* The partial is under the control of the template's controller\n",
    "(and thus has access to the controller's instance variables)."
   ]
  },
  {
   "cell_type": "markdown",
   "metadata": {},
   "source": [
    "### Partials for Objects\n",
    "\n",
    "`<%= render @line_item %>`"
   ]
  },
  {
   "cell_type": "markdown",
   "metadata": {},
   "source": [
    "### Partials for Collections\n",
    "\n",
    "`<%= render @line_items %>`"
   ]
  },
  {
   "cell_type": "markdown",
   "metadata": {},
   "source": [
    "### The Partial's Object"
   ]
  },
  {
   "cell_type": "markdown",
   "metadata": {},
   "source": [
    "### Local variables"
   ]
  },
  {
   "cell_type": "markdown",
   "metadata": {},
   "source": [
    "## Layouts"
   ]
  },
  {
   "cell_type": "code",
   "execution_count": null,
   "metadata": {
    "collapsed": true
   },
   "outputs": [],
   "source": []
  }
 ],
 "metadata": {
  "kernelspec": {
   "display_name": "Ruby 2.3.1",
   "language": "ruby",
   "name": "ruby"
  },
  "language_info": {
   "file_extension": ".rb",
   "mimetype": "application/x-ruby",
   "name": "ruby",
   "version": "2.3.1"
  }
 },
 "nbformat": 4,
 "nbformat_minor": 2
}
