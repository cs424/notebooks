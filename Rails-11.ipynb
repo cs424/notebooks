{
 "cells": [
  {
   "cell_type": "markdown",
   "metadata": {},
   "source": [
    "### CS424\n",
    "\n",
    "Prof. Götz Pfeiffer<br />\n",
    "School of Mathematics, Statistics and Applied Mathematics, NUI Galway"
   ]
  },
  {
   "cell_type": "markdown",
   "metadata": {},
   "source": [
    "# Lecture 11: Hypertext Transfer Protocol"
   ]
  },
  {
   "cell_type": "markdown",
   "metadata": {
    "collapsed": true
   },
   "source": [
    "The HyperText Transfer Protocol (HTTP) is an **application layer protocol** for distributed,\n",
    "collaborative, hypermedia information systems.  It is the foundation of data communication for the world wide web.\n",
    "\n",
    "**Hypertext** is a network of nodes containing structured text\n",
    "that uses hyperlinks to refer to other text nodes.\n",
    "\n",
    "HTTP works as a request-response protocol in a client-server model.\n",
    "A client (typically a web browser) submits a **HTTP request** to the server.\n",
    "The server then can perform actions on behalf of the client, and returns\n",
    "a **HTTP response** to the client.\n",
    "\n",
    "The idea of hypertext dates back to Ted Nelson's [Xanadu project](https://en.wikipedia.org/wiki/Project_Xanadu) (1965),\n",
    "or even [Vannevar Bush](https://en.wikipedia.org/wiki/Vannevar_Bush) memex system (1930).  It only became practical with the\n",
    "advent of widespread point-and-click interfaces on personal computers.\n",
    "The first version of HTTP (0.9) was part of [Tim Berners-Lee](https://en.wikipedia.org/wiki/Tim_Berners-Lee)'s 1989 proposal\n",
    "of a World Wide Web of documents,  primarily for the purpose of\n",
    "organzing the ever growing  technical manuals for all the equipment at the\n",
    "CERN particle accelerators.  The success of the protocol\n",
    "as universal data exchange format for all aspects of human life came somewhat unexpected.\n"
   ]
  },
  {
   "cell_type": "markdown",
   "metadata": {},
   "source": [
    "## Stateless"
   ]
  },
  {
   "cell_type": "markdown",
   "metadata": {},
   "source": [
    "HTTP is a **stateless** protocol. A stateless protocol does not require the HTTP server to retain information or status about each user for the duration of multiple requests. However, some web applications implement states or server side sessions using for instance HTTP **cookies** or **hidden variables** within web forms."
   ]
  },
  {
   "cell_type": "markdown",
   "metadata": {},
   "source": [
    "## Layers"
   ]
  },
  {
   "cell_type": "markdown",
   "metadata": {},
   "source": [
    "The framework of the internet protocol suite defines data exchange protocols as a stack of several layers:\n",
    "\n",
    "* Link layer: ARP, PPP\n",
    "* Internet layer: IP\n",
    "* Transport layer: TCP, UDP\n",
    "* Application layer: HTTP, ssh , FTP, telnet, SMTP\n",
    "\n",
    "HTTP is an application layer protocol that presumes an underlying reliable transport layer,\n",
    "usually TCP."
   ]
  },
  {
   "cell_type": "markdown",
   "metadata": {},
   "source": [
    "## HTTP Requests"
   ]
  },
  {
   "cell_type": "markdown",
   "metadata": {},
   "source": [
    "An HTTP **request message** consists of 4 parts:\n",
    "\n",
    "* a **request line**;\n",
    "\n",
    "* a sequence of **request header fields**;\n",
    "\n",
    "* an **empty line**;\n",
    "\n",
    "* an (optional) **message body**."
   ]
  },
  {
   "cell_type": "markdown",
   "metadata": {},
   "source": [
    "### Request line\n",
    "\n",
    "A request line like\n",
    "```http\n",
    "GET /products HTTP/1.1\n",
    "```\n",
    "consists of a **HTTP command** (`GET`), a  **resource** in the form of a path (`/products`)\n",
    "and the version of the protocol used (`HTTP/1.1`)."
   ]
  },
  {
   "cell_type": "markdown",
   "metadata": {},
   "source": [
    "### Header Fields\n",
    "\n",
    "The request header fields form a sequence of key/value pairs of the form `name: value`. \n",
    "Examples are\n",
    "```http\n",
    "Host: localhost:3001\n",
    "Connection: keep-alive\n",
    "User-Agent: Mozilla/5.0 (X11; Linux x86_64) AppleWebKit/537.36 (KHTML, like Gecko) Chrome/61.0.3163.100 Safari/537.36\n",
    "Upgrade-Insecure-Requests: 1\n",
    "Accept: text/html,application/xhtml+xml,application/xml;q=0.9,image/webp,image/apng,*/*;q=0.8\n",
    "Accept-Encoding: gzip, deflate, br\n",
    "Accept-Language: en-US,en;q=0.8,de;q=0.6\n",
    "Cookie: _depot_session=Qk5va3BXbnplS1NET3prcmlnNS94Q0xHSitocmxTSGZ6MnI4TWlrVnZyc3VJaHcvN2pFZytBT3kxNWR6VG5ETFRoUHczN0pGNkhNSjNSaEVMRG1LYU9ZZzVoWGwvb2tvUUJxeUVsNFlhOFgvL0VCRThpaVBpUThhMFFNUko0UldDbjkrVXNPZm9NNkwyRFhvMjZXNjdnPT0tLVRHNlErcHFUaEF2RGdZL2w4RXVqT0E9PQ%3D%3D--4f5cf13aa1795afc2aa50c552e365f46175e3a2b\n",
    "```\n",
    "\n",
    "The `Host` field is mandatory under `HTTP/1.1`."
   ]
  },
  {
   "cell_type": "markdown",
   "metadata": {},
   "source": [
    "### Message Body\n",
    "\n",
    "The optional body of the request consists of everything between the (required) empty line\n",
    "and the end of the request.  The meaning (and presence) of a message body\n",
    "depends on the HTTP command."
   ]
  },
  {
   "cell_type": "markdown",
   "metadata": {},
   "source": [
    "## HTTP commands"
   ]
  },
  {
   "cell_type": "markdown",
   "metadata": {},
   "source": [
    "The first version of  HTTP had only one command: GET. Now there are several other commands, allowing\n",
    "for a wider range of services."
   ]
  },
  {
   "cell_type": "markdown",
   "metadata": {},
   "source": [
    "### GET\n",
    "\n",
    "Requests a **representation** of the specified resource.\n",
    "A `GET` request **should** only retrieve data and should not have any other effect."
   ]
  },
  {
   "cell_type": "markdown",
   "metadata": {},
   "source": [
    "### HEAD\n",
    "\n",
    "Identical to `GET`, except that the response will not contain the  message body."
   ]
  },
  {
   "cell_type": "markdown",
   "metadata": {},
   "source": [
    "### POST\n",
    "\n",
    "Requests the server to accept the entity enclosed in the request (body)\n",
    "as a new subordinate of the given resource, e.g., add a new item to a database.\n"
   ]
  },
  {
   "cell_type": "markdown",
   "metadata": {},
   "source": [
    "### PUT\n",
    "\n",
    "The `PUT` method requests that the enclosed entity be stored under the supplied URI. If the URI refers to an already existing resource, it is modified; if the URI does not point to an existing resource, then the server can create the resource with that URI."
   ]
  },
  {
   "cell_type": "markdown",
   "metadata": {},
   "source": [
    "### DELETE\n",
    "\n",
    "The `DELETE` method deletes the specified resource."
   ]
  },
  {
   "cell_type": "markdown",
   "metadata": {},
   "source": [
    "### PATCH\n",
    "\n",
    "The `PATCH` method applies partial modifications to a resource."
   ]
  },
  {
   "cell_type": "markdown",
   "metadata": {},
   "source": [
    "### Safe Methods\n",
    "\n",
    "Some of the methods (for example, `HEAD` and `GET`) are, by **convention**, considered as **safe**. \n",
    "Thise means they are intended only for information retrieval and **should not change the state of the server**. In other words, they **should not have side effects**, beyond relatively harmless effects such as logging, caching, the serving of banner advertisements or incrementing a web counter. Making arbitrary `GET` requests without regard to the context of the application's state can therefore be considered safe. However, note that this is only a convention.  It is not mandated by the standard, nor can it be enforced.\n",
    "\n",
    "By contrast, methods such as `POST`, `PUT`, `DELETE` and `PATCH` are intended for actions that may cause side effects either on the server, or external side effects such as financial transactions or transmission of email. Such methods are therefore not usually used by conforming web robots or web crawlers.\n",
    "\n"
   ]
  },
  {
   "cell_type": "markdown",
   "metadata": {},
   "source": [
    "### Idempotent Methods\n",
    "\n",
    "In algebra, an element $e$ of a ring $R$ is called an **idempotent**, if $e^2 = e$.\n",
    "If $R$ is a ring of operators, this means that applying the operator $e$ several times in a row\n",
    "has the same effect as applying $e$ just once.\n",
    "\n",
    "In this sense, the methods `PUT` and `DELETE` are defined to be idempotent, meaning that multiple identical requests should have the same effect as a single request.\n",
    "Safe methods (which by definition have **no effect** on the server state)\n",
    "are idempotent as well.\n",
    "\n",
    "In contrast, the `POST` method is not necessarily idempotent. Sending an identical `POST` request multiple times may further affect state or cause further side effects (such as financial transactions). \n",
    "\n",
    "Again, this is only a convention that is not and can not be enforced.\n",
    "Ignoring this convention, however, may result in undesirable consequences.\n"
   ]
  },
  {
   "cell_type": "markdown",
   "metadata": {},
   "source": [
    "##  HTTP Responses"
   ]
  },
  {
   "cell_type": "markdown",
   "metadata": {},
   "source": [
    "A HTTP **response message** consists of 4 parts:\n",
    "\n",
    "* a **status line**;\n",
    "\n",
    "* a sequence of **response header fields**;\n",
    "\n",
    "* an **empty line**\n",
    "\n",
    "* an (optional) **message body**."
   ]
  },
  {
   "cell_type": "markdown",
   "metadata": {},
   "source": [
    "### Status Line\n",
    "\n",
    "A status line like\n",
    "```http\n",
    "HTTP/1.1 200 OK \n",
    "```\n",
    "consists of a HTTP version (`HTTP/1.1`), a machine-readable status code (`200`) and a human-readable reason phrase (`OK`). \n",
    "\n",
    "Common status codes (and reason phrases) are\n",
    "\n",
    "* `100 Continue`\n",
    "* `200 OK`\n",
    "* `204 No Content`\n",
    "* `301 Moved Permanently`\n",
    "* `302 Found`\n",
    "* `400 Bad Request`\n",
    "* `401 Unauthorized`\n",
    "* `402 Payment Required`\n",
    "* `403 Forbidden`\n",
    "* `404 Not Found`\n",
    "* `500 Internal Server Error`\n",
    "\n",
    "Here, the first digit of the status code defines the **response class**:\n",
    "\n",
    "* `1..`: **Informational** - Request received, continuing process\n",
    "\n",
    "* `2..`: **Success** - The action was successfully received, understood, and accepted\n",
    "        \n",
    "* `3..`: **Redirection** - Further action must be taken in order to complete the request\n",
    "\n",
    "* `4..`: **Client Error** - The request contains bad syntax or cannot be fulfilled\n",
    "\n",
    "* `5..`: **Server Error** - The server failed to fulfill an apparently valid request"
   ]
  },
  {
   "cell_type": "markdown",
   "metadata": {},
   "source": [
    "### Header Fields\n",
    "\n",
    "```http\n",
    "X-Frame-Options: SAMEORIGIN\n",
    "X-Xss-Protection: 1; mode=block\n",
    "X-Content-Type-Options: nosniff\n",
    "Content-Type: text/html; charset=utf-8\n",
    "Etag: W/\"a88d71f787ee296868c8cd19906d76cc\"\n",
    "Cache-Control: max-age=0, private, must-revalidate\n",
    "X-Request-Id: c9339d6e-f687-441b-bd64-bf4a73d261e0\n",
    "X-Runtime: 0.136222\n",
    "Server: WEBrick/1.3.1 (Ruby/2.3.1/2016-04-26)\n",
    "Date: Sun, 08 Oct 2017 18:00:44 GMT\n",
    "Content-Length: 6149\n",
    "Connection: Keep-Alive\n",
    "Set-Cookie: _depot_session=K1hGd0wyS3grSjIvOHFXZjVjKzVGbUhybFNjc1gvSEp3N21oMVZaTVQ0cHp5UlBKcmFDa0gzL3RHS3pjaFIxcmJoRTNrM0pjWmZ2UUR0anF6UEZ1Z1hZMmxPNktMOVg1a2tnajVQYUZmZ1VkL1F5UjVhcEdOa0p4N1dmMmJNNHk5WWp6MjYwaEg1UDVFTWJlZmx4bytnPT0tLXk1cHhFbEk2ZkxVekR0M2hCSFhTdWc9PQ%3D%3D--b9ddb7dcc84cd4baaa83ee9fade933be2667e4e6; path=/; HttpOnly\n",
    "```"
   ]
  },
  {
   "cell_type": "markdown",
   "metadata": {},
   "source": [
    "### Example Session\n",
    "\n",
    "```\n",
    "telnet schmidt\n",
    "```"
   ]
  },
  {
   "cell_type": "markdown",
   "metadata": {},
   "source": [
    "##  URLs and URIs"
   ]
  },
  {
   "cell_type": "markdown",
   "metadata": {},
   "source": [
    "HTTP **resources** are identified and located on the network by Uniform Resource Locators (URLs), using the Uniform Resource Identifiers (URI's) schemes `http` and `https`. \n",
    "\n",
    "A URI is a string of characters used to identify a resource. The most common form of URI is the Uniform Resource Locator (URL), frequently referred to informally as a **web address**.\n",
    "\n",
    "A typical URL has the form `http://www.example.com/index.html`, which indicates a protocol (`http`), a hostname (`www.example.com`), and a file name (`index.html`).\n",
    "\n",
    "More specifically, every HTTP URL conforms to the syntax of a generic URI, which is of the form:\n",
    "```\n",
    "scheme:[//[user[:password]@]host[:port]][/path][?query][#fragment]\n",
    "```\n",
    "This comprises:\n",
    "\n",
    "* The **scheme**, consisting of a sequence of characters beginning with a letter and followed by any combination of letters, digits, plus (`+`), period (`.`), or hyphen (`-`). Although schemes are case-insensitive, the canonical form is lowercase and documents that specify schemes must do so with lowercase letters. It is followed by a colon (`:`). Examples of popular schemes include `http` or `https`, `ftp`, `mailto` and `file`. \n",
    "\n",
    "* Two slashes (`//`): This is required by some schemes and not required by some others. \n",
    "\n",
    "* An **authority part**, comprising:\n",
    "  * An optional authentication section of a **user name** and **password**, separated by a colon, followed by an at symbol (`@`)\n",
    "  * A **host**, consisting of either a registered name (including but not limited to a hostname), or an IP address. \n",
    "  * An optional **port number**, separated from the hostname by a colon\n",
    "  \n",
    "* A **path**, which contains data, usually organized in hierarchical form, that appears as a sequence of segments separated by slashes (`/`). Such a sequence may resemble or map exactly to a file system path, but does not always imply a relation to one. \n",
    "\n",
    "* An optional **query**, separated from the preceding part by a question mark (`?`), containing a query string of non-hierarchical data. Its syntax is not well defined, but by convention is most often a sequence of attribute–value pairs separated by a delimiter (`&` or `;`).\n",
    "\n",
    "* An optional **fragment**, separated from the preceding part by a hash (`#`). The fragment contains a fragment identifier providing direction to a secondary resource.  When the primary resource is an HTML document, the fragment is often an id attribute of a specific element, and web browsers will scroll this element into view.  The fragment thus is directed towards the client and will not become part of the request sent to the server.\n",
    "\n"
   ]
  },
  {
   "cell_type": "code",
   "execution_count": null,
   "metadata": {
    "collapsed": true
   },
   "outputs": [],
   "source": []
  },
  {
   "cell_type": "code",
   "execution_count": null,
   "metadata": {
    "collapsed": true
   },
   "outputs": [],
   "source": []
  }
 ],
 "metadata": {
  "kernelspec": {
   "display_name": "Ruby 2.3.1",
   "language": "ruby",
   "name": "ruby"
  },
  "language_info": {
   "file_extension": ".rb",
   "mimetype": "application/x-ruby",
   "name": "ruby",
   "version": "2.3.1"
  }
 },
 "nbformat": 4,
 "nbformat_minor": 2
}
