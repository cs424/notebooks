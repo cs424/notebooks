{
 "cells": [
  {
   "cell_type": "markdown",
   "metadata": {},
   "source": [
    "### CS424\n",
    "\n",
    "Prof. Götz Pfeiffer<br />\n",
    "School of Mathematics, Statistics and Applied Mathematics, NUI Galway"
   ]
  },
  {
   "cell_type": "markdown",
   "metadata": {},
   "source": [
    "# Lecture 7: Validating Input"
   ]
  },
  {
   "cell_type": "markdown",
   "metadata": {},
   "source": [
    "The internet is a dangerous place, and any application running on the\n",
    "internet is open to input unexpected by the programmer, be it for evil\n",
    "intent or just for ignorance.  At the same time, programmers can make\n",
    "mistakes.  The larger and more complex and application becomes, the\n",
    "more difficult it is to predict the repercussions of small or big\n",
    "modifications in the software.  Rails provides two basic tools that\n",
    "help a programmer to protect an application from unintended behavior:\n",
    "\n",
    "* validation (prevent misformed data from entering the database), and\n",
    "* unit testing (formulate and programmatically check our intentions).\n",
    "\n",
    "We'll look at unit testing in the next lecture."
   ]
  },
  {
   "cell_type": "markdown",
   "metadata": {},
   "source": [
    "##  Validation: where?\n",
    "\n",
    "The first question to ask is: where in the Model-View-Controller architecture\n",
    "should validation code reside?  \n",
    "\n",
    "Think of the **input loop** of the programs you miht have written in your first programming course: repeat prompting the user for input until the input has the desired format ...\n",
    "\n",
    "Naively, one might think validation is close\n",
    "to the View part, since it is about preventing the user from entering\n",
    "misformed data.  But the forms on the view pages are only one possible source\n",
    "for data wanting to enter the database.  Data can also be generated\n",
    "programmatically by the application, or sent over the internet in the form\n",
    "of handcrafted http requests by possibly evil-spirited attackers.  And\n",
    "validation is not meant to be a means to patronize users, its purpose is to\n",
    "protect the database.\n",
    "\n",
    "Thus, since the Model part of the application is in charge of communicating\n",
    "with the database, **validation code belongs into the model**."
   ]
  },
  {
   "cell_type": "markdown",
   "metadata": {},
   "source": [
    "## Validators.\n",
    "\n",
    "* A validator is a helper method which performs certain **checks** on a model object\n",
    "**attribute**.\n",
    "\n",
    "* A validatror is **installed in the model** code, together with\n",
    "the name of the attribute it is going to check\n",
    "\n",
    "* The validator method is run on **input data** for\n",
    "an attribute whenever a model object is saved or updated.\n",
    "\n",
    "* If a check fails, the database will not be changed, an error message\n",
    "will be stored with the object instead."
   ]
  },
  {
   "cell_type": "markdown",
   "metadata": {
    "collapsed": true
   },
   "source": [
    "In the model, some standard validators can be attached \n",
    "to model attributes with simple commands.\n",
    "less standard validation routines can be formulated in a few lines of ruby\n",
    "code."
   ]
  },
  {
   "cell_type": "code",
   "execution_count": null,
   "metadata": {
    "collapsed": true
   },
   "outputs": [],
   "source": []
  }
 ],
 "metadata": {
  "kernelspec": {
   "display_name": "Ruby 2.3.1",
   "language": "ruby",
   "name": "ruby"
  },
  "language_info": {
   "file_extension": ".rb",
   "mimetype": "application/x-ruby",
   "name": "ruby",
   "version": "2.3.1"
  }
 },
 "nbformat": 4,
 "nbformat_minor": 2
}
