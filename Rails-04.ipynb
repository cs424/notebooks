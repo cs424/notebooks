{
 "cells": [
  {
   "cell_type": "markdown",
   "metadata": {},
   "source": [
    "### CS424\n",
    "\n",
    "Prof. Götz Pfeiffer<br />\n",
    "School of Mathematics, Statistics and Applied Mathematics, NUI Galway"
   ]
  },
  {
   "cell_type": "markdown",
   "metadata": {},
   "source": [
    "# Lecture 4: Incremental Development"
   ]
  },
  {
   "cell_type": "markdown",
   "metadata": {},
   "source": [
    "Incremental Development refers to the typical development cycle\n",
    "of a Rails application.  Rails allows you to start off with a working application.  Further development steps would add or improve functionality, ideally keeping the application in a working and testable state all the time.\n",
    "\n",
    "Some planning is needed to guide you towards the end goal of a nice and\n",
    "powerful application, satisfying your customer's expectations.  Here, we \n",
    "look at some standard tools that can help with developing and \n",
    "structuring the plans.\n",
    "\n",
    "There is some benefit in keeping initial plans a bit sketchy: less\n",
    "effort, time and money spent on planning details makes it less painful\n",
    "to scrap an idea when it turns out to be bad or inappropriate."
   ]
  },
  {
   "cell_type": "markdown",
   "metadata": {},
   "source": [
    "## Incremental Development Cycle\n",
    "\n",
    "Incremental development basically cycles through the following steps:\n",
    "\n",
    "* Work out a rough specification to start with\n",
    "\n",
    "* Create, modify or improve some functionality\n",
    "\n",
    "* Gather feedback, introduce new ideas, and go back to the previous step."
   ]
  },
  {
   "cell_type": "markdown",
   "metadata": {},
   "source": [
    "The following conditions support incremental development:\n",
    "\n",
    "* close **cooperation** with users/customers\n",
    "\n",
    "* no penalties for **change of mind**\n",
    "\n",
    "* building and maintaining a **test suite** that ensures the application\n",
    "works as intended"
   ]
  },
  {
   "cell_type": "markdown",
   "metadata": {},
   "source": [
    "## Tools\n",
    "\n",
    "The following standard tools can be applied at various stages of the planning process."
   ]
  },
  {
   "cell_type": "markdown",
   "metadata": {},
   "source": [
    "### Use Cases.\n",
    "\n",
    "The web application will be used by different **types** of visitors.\n",
    "Indentify the different types and the **roles** they will play.\n",
    "For each role, draw up a **use case**, i.e., a typical journey through\n",
    "the web site.\n",
    "\n",
    "### Page Flow.\n",
    "\n",
    "Each use case describes movements between different parts of the application, more precisely between different **views**.\n",
    "Sketch the pages that are involved, connect the pages by arrows\n",
    "representing possible **moves**, adding more arrows when needed.\n",
    "\n",
    "### Data Types.\n",
    "\n",
    "With the page flow in mind, develop a preliminary design for the\n",
    "**data types** that would be needed to support this flow of pages\n",
    "to satisfy the needs of the different user types: use **descriptive names** for each types and its components."
   ]
  },
  {
   "cell_type": "markdown",
   "metadata": {},
   "source": [
    "## An Online Shop\n",
    "\n",
    "The users of an online shop are either **buyers** or **sellers**.\n",
    "Each of these roles gives rise to a simple use case as follows."
   ]
  },
  {
   "cell_type": "markdown",
   "metadata": {},
   "source": [
    "### The Buyer\n",
    "\n",
    "* browses a catalog of products\n",
    "\n",
    "* selects some for purchase\n",
    "\n",
    "* supplies billing information at the checkout"
   ]
  },
  {
   "cell_type": "markdown",
   "metadata": {},
   "source": [
    "### The Seller\n",
    "\n",
    "* maintains a list of products for sale\n",
    "\n",
    "* lists orders waiting for shipment\n",
    "\n",
    "* marks orders as shipped"
   ]
  },
  {
   "cell_type": "markdown",
   "metadata": {},
   "source": [
    "And that's enough user details for now."
   ]
  },
  {
   "cell_type": "code",
   "execution_count": null,
   "metadata": {
    "collapsed": true
   },
   "outputs": [],
   "source": []
  }
 ],
 "metadata": {
  "kernelspec": {
   "display_name": "Ruby 2.3.1",
   "language": "ruby",
   "name": "ruby"
  },
  "language_info": {
   "file_extension": ".rb",
   "mimetype": "application/x-ruby",
   "name": "ruby",
   "version": "2.3.1"
  }
 },
 "nbformat": 4,
 "nbformat_minor": 2
}
