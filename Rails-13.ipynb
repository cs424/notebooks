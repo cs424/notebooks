{
 "cells": [
  {
   "cell_type": "markdown",
   "metadata": {},
   "source": [
    "### CS424\n",
    "\n",
    "Prof. Götz Pfeiffer<br />\n",
    "School of Mathematics, Statistics and Applied Mathematics<br />\n",
    "NUI Galway"
   ]
  },
  {
   "cell_type": "markdown",
   "metadata": {},
   "source": [
    "# Lecture 13: Migrations"
   ]
  },
  {
   "cell_type": "markdown",
   "metadata": {},
   "source": [
    "It is not unusual that the structure  of a database changes in the process of\n",
    "developing the application.  In fact, in incremental development it is almost\n",
    "impossible  to  avoid  modifications  in   the  database  structure,  as  the\n",
    "application  grows, and  the specifications  potentially change.   Migrations\n",
    "provide a way to perform these  structural changes with little effort, and to\n",
    "keep them under control.\n",
    "\n",
    "* Migrations provide a convenient way to **alter the database** in a structured and organized manner.\n",
    "* `Rails` migrations are **database agnostic**.\n",
    "* `Rails` **tracks** which migrations have already been run (and which ones still need to be run).\n",
    "* To apply outstanding migrations, update your source and run `rake db:migrate`.\n",
    "* Migrations are **`ruby` programs** (using SQL only as a very last resort).\n",
    "* As programs on file, migrations can be version controlled."
   ]
  },
  {
   "cell_type": "markdown",
   "metadata": {},
   "source": [
    "## The Shape of a Migration"
   ]
  },
  {
   "cell_type": "markdown",
   "metadata": {},
   "source": [
    "Migrations are used to create new database tables, for example a table called `products`:\n",
    "```ruby\n",
    "class CreateProducts < ActiveRecord::Migration\n",
    "  def change\n",
    "    create_table :products do |t|\n",
    "      t.string :title\n",
    "      t.text :description\n",
    "      t.string :image_url\n",
    "      t.decimal :price, precision: 8, scale: 2\n",
    "\n",
    "      t.timestamps null: false\n",
    "    end\n",
    "  end\n",
    "end\n",
    "```"
   ]
  },
  {
   "cell_type": "markdown",
   "metadata": {},
   "source": [
    "This migration is a `ruby` class, named after its purpose, which defines\n",
    "a single method `change`.\n",
    "\n",
    "The `change` method, when called, creates a new table `products` with 2 columns `title` and `image_url` of type `string`, a column `description` of type `text`\n",
    "and a column `price` of type `decimal`.\n",
    "\n",
    "A **primary key** column `id` is automatically added;\n",
    "this is the default primary key for all `Rails` models.\n",
    "\n",
    "The `timestamps` method adds two\n",
    "**timestamp** columns `created_at` and `updated_at`,\n",
    "which are automatically managed."
   ]
  },
  {
   "cell_type": "markdown",
   "metadata": {},
   "source": [
    "This particular migration was automatically generated, as part of the\n",
    "output of the \n",
    "```bash\n",
    "rails g scaffold products\n",
    "```\n",
    "command.\n",
    "It sits in its own file in the `db/migrations` folder, where it\n",
    "can be found and modified if necessary, before it is applied.\n",
    "\n",
    "In the above example, the generated migration was modified to specify\n",
    "the exact format of the `price` column as 8 significant digits\n",
    "with 2 digits after the decimal point.\n",
    "\n",
    "Migrations are  usually dealt  with in a such a two-step process.   First, a\n",
    "migration is  created (as a  `ruby` class  in its own  file).  Secondly,\n",
    "after  optionally  modifying  the  generated file,  the  migration  is\n",
    "applied."
   ]
  },
  {
   "cell_type": "markdown",
   "metadata": {},
   "source": [
    "## Column Types"
   ]
  },
  {
   "cell_type": "markdown",
   "metadata": {},
   "source": [
    "`rails` supports the following database column types, independent of the actual database used by the application:\n",
    "\n",
    "* `:binary`\n",
    "* `:boolean`\n",
    "* `:date`\n",
    "* `:datetime`\n",
    "* `:decimal`\n",
    "* `:float`\n",
    "* `:integer`\n",
    "* `:primary_key`\n",
    "* `:string`\n",
    "* `:text`\n",
    "* `:time`\n",
    "* `:timestamp`"
   ]
  },
  {
   "cell_type": "markdown",
   "metadata": {},
   "source": [
    "## Common Data Definition Tasks"
   ]
  },
  {
   "cell_type": "markdown",
   "metadata": {},
   "source": [
    "Migrations are meant to be invertible (i.e., undoable) operations.\n",
    "The command\n",
    "```bash\n",
    "rake db:rollback\n",
    "```\n",
    "can be used to undo the latest migration."
   ]
  },
  {
   "cell_type": "markdown",
   "metadata": {},
   "source": [
    "There are methods that perform common data definition tasks in a database\n",
    "independent way:\n",
    "\n",
    "* `add_column`\n",
    "* `remove_column`\n",
    "* `rename_column`\n",
    "* `change_column`\n",
    "\n",
    "* `create_table`\n",
    "* `drop_table`\n",
    "* `change_table`\n",
    "\n",
    "* `add_index`\n",
    "* `remove_index`\n",
    "\n"
   ]
  },
  {
   "cell_type": "markdown",
   "metadata": {},
   "source": [
    "For most tasks, there is an obvious opposite task and `rails` can automatically\n",
    "invert a migration, when asked to do so.  E.g, to undo a `create_table` task,\n",
    "one applies the `drop_table` task to the same table name."
   ]
  },
  {
   "cell_type": "markdown",
   "metadata": {},
   "source": [
    "Alternatively, or in less obvious situations, a migration can implement\n",
    "a pair of methods, `up` and `down`,\n",
    "where `up` specifies how to perform the required transformations,\n",
    "and `down` how to revert them."
   ]
  },
  {
   "cell_type": "markdown",
   "metadata": {},
   "source": [
    "## Creating Migrations Automatically"
   ]
  },
  {
   "cell_type": "markdown",
   "metadata": {},
   "source": [
    "Migrations can be created through a variety of commands.\n",
    "\n",
    "* `rails g scaffold ...` and `rails g model ...` will generate\n",
    "migrations for creating the database tables for new models.\n",
    "\n",
    "* `rails g migration name` will generate a named migration file,\n",
    "which usually needs to be modified to suit its intended purpose."
   ]
  },
  {
   "cell_type": "markdown",
   "metadata": {},
   "source": [
    "Migrations are frequently used to add/remove/rename columns to/from/in a\n",
    "database table.\n",
    "Rails understands migration names structured like\n",
    "\n",
    "* `rails g migration add_name_to_table name:type` or\n",
    "\n",
    "* `rails g migration RemoveNameFromTable name:type`\n",
    "\n",
    "in `under_line` or `CamelCase` convention, and automatically generates files with\n",
    "the correct `up`, `down` or `change` functions."
   ]
  },
  {
   "cell_type": "markdown",
   "metadata": {},
   "source": [
    "For example, the command\n",
    "```bash\n",
    "rails g migration add_quantity_to_line_items quantity:integer\n",
    "```\n",
    "generates a file named `20171017141031_add_quantity_to_line_items.rb`\n",
    "with content:\n",
    "```ruby\n",
    "class AddQuantityToLineItems < ActiveRecord::Migration\n",
    "  def change\n",
    "    add_column :line_items, :quantity, :integer\n",
    "  end\n",
    "end\n",
    "```\n",
    "The corresponding migration `remove_quantity_from_line_items`\n",
    "would work without specifying the type of the `quantity` column,\n",
    "but that information is useful for inferring the opposite task.\n",
    "\n",
    "Like all migration files, the name of this file starts with a **timestamp**\n",
    "prefix `20171017141031_` which `rake` uses to manage a timeline of \n",
    "(old and new) migrations."
   ]
  },
  {
   "cell_type": "markdown",
   "metadata": {},
   "source": [
    "There are several commands for applying or undoing migrations.\n",
    "\n",
    "* `rake db:migrate` runs the `change` or `up` methods of\n",
    "all those migrations (in the `db/migrations` folder) that have\n",
    "not been applied yet.\n",
    "\n",
    "* `rake db:rollback` undoes the last migration.\n",
    "\n",
    "* `rake db:rollback STEP=3` undoes the last 3 migrations.\n",
    "\n",
    "* `rake db:migrate VERSION=20171011120000` restores the structure\n",
    "of the database at a given point in time.\n",
    "\n",
    "* `rake db:reset` drops the entire database and then recreates it\n",
    "(structure only, content will be lost forever).\n",
    "\n",
    "The technical term for the structure of a database is **schema**.\n",
    "The file `db/schema.rb` is a Ruby program that describes the\n",
    "current structure of the database (as the result of running\n",
    "migrations).  It can be used to start a new instance of the app\n",
    "(without goinng through the individual migrations)."
   ]
  },
  {
   "cell_type": "markdown",
   "metadata": {},
   "source": [
    "## Other Uses"
   ]
  },
  {
   "cell_type": "markdown",
   "metadata": {},
   "source": [
    "Other uses of migrations include systematic modification of bad data,\n",
    "inital population of new fields, .... In these cases `Rails` cannot guess the\n",
    "programmers intentions and the programmer has to fill in the details\n",
    "(in the generated file) themselves."
   ]
  },
  {
   "cell_type": "markdown",
   "metadata": {},
   "source": [
    "## Undoing Prematurely Applied Migrations"
   ]
  },
  {
   "cell_type": "markdown",
   "metadata": {
    "collapsed": true
   },
   "source": [
    "If a migration has been applied in error:\n",
    "\n",
    "* rollback\n",
    "* edit/modify migration as necessary\n",
    "* run the migration again.\n"
   ]
  },
  {
   "cell_type": "code",
   "execution_count": null,
   "metadata": {
    "collapsed": true
   },
   "outputs": [],
   "source": []
  }
 ],
 "metadata": {
  "kernelspec": {
   "display_name": "Ruby 2.3.1",
   "language": "ruby",
   "name": "ruby"
  },
  "language_info": {
   "file_extension": ".rb",
   "mimetype": "application/x-ruby",
   "name": "ruby",
   "version": "2.3.1"
  }
 },
 "nbformat": 4,
 "nbformat_minor": 2
}
