{
 "cells": [
  {
   "cell_type": "markdown",
   "metadata": {},
   "source": [
    "### CS424\n",
    "\n",
    "Prof. Götz Pfeiffer<br />\n",
    "School of Mathematics, Statistics and Applied Mathematics<br />\n",
    "NUI Galway"
   ]
  },
  {
   "cell_type": "markdown",
   "metadata": {},
   "source": [
    "# Lecture 12: Relational Data"
   ]
  },
  {
   "cell_type": "markdown",
   "metadata": {},
   "source": [
    "A database of data, stored in a collection of tables, is often called\n",
    "a **relational database**.  Here the term **relation**\n",
    "is meant in the **mathematical sense**:  A relation is\n",
    "a **subset of a direct product** of sets.  Each table \n",
    "in the database is (an explicit list of the elements\n",
    "in) such a relation.\n",
    "\n",
    "Relationships of a different kind exist **between**\n",
    "tables, most notably so-called one-to-one relationships, one-to-many relationships and many-to-many relationships.  \n",
    "\n",
    "Here we discuss the mathematical foundation of these\n",
    "concepts, and their potential use in a web application."
   ]
  },
  {
   "cell_type": "markdown",
   "metadata": {},
   "source": [
    "## Data as Relations\n",
    "\n",
    "If $A$ and $B$ \n",
    "are sets, then a relation $R$ (from $A$ to $B$) is a **subset** of the\n",
    "direct (or cartesian) product $A \\times B$.  Elements of $R$\n",
    "are pairs of the form $(a, b)$, with $a \\in A$ and $b \\in B$.\n",
    "\n",
    "The same construction applies to a sequence of sets\n",
    "$A_1, A_2, \\dots, A_n$.  A relation\n",
    "on these sets is a subset of the cartesian product\n",
    "$A_1 \\times A_2 \\times \\dots \\times A_n$, i.e.,\n",
    "a collection of $n$-tuples $(a_1, a_2, \\dots, a_n)$,\n",
    "with $a_i \\in A_i$, $i = 1,\\dots, n$.\n",
    "Some of the sets $A_i$ can be the same set, but they don't have to be."
   ]
  },
  {
   "cell_type": "markdown",
   "metadata": {},
   "source": [
    "In the context of relational databases, the relations \n",
    "are called tables.\n",
    "\n",
    "The **columns** of a table represent the sets $A_i$\n",
    "(specified by their data type, or by the set\n",
    "of values that actually occur in that column).\n",
    "A **row** of the table corresponds to\n",
    "an element $(a_1, a_2, \\dots, a_n)$,\n",
    "with the **value** $a_i$ of **type** $A_i$\n",
    "stored in column $i$."
   ]
  },
  {
   "cell_type": "markdown",
   "metadata": {},
   "source": [
    "As the tables are sets, standard set theoretical\n",
    "operations can be applied to create new tables\n",
    "from given ones: this is called **relational algebra**.  Typical operations are:"
   ]
  },
  {
   "cell_type": "markdown",
   "metadata": {},
   "source": [
    "### Projection\n",
    "\n",
    "Form a new table by selecting a **subset $J$ of the columns** $I = \\{1, \\dots, n\\}$\n",
    "of a given table:\n",
    "$$\n",
    "(a_i)_{i\\in I} \\mapsto (a_i)_{i \\in J}\n",
    "$$"
   ]
  },
  {
   "cell_type": "markdown",
   "metadata": {},
   "source": [
    "### Selection\n",
    "\n",
    "Form a new table by selecting a **subset of the rows**, satisfying a certain condition:\n",
    "$$\n",
    "R \\leadsto \\{ (a_i)_{i \\in I} : P(a_k) \\} \n",
    "$$\n"
   ]
  },
  {
   "cell_type": "markdown",
   "metadata": {},
   "source": [
    "### (Inner) Join\n",
    "\n",
    "If $R \\subseteq A \\times B$ and $S \\subseteq B \\times C$ are relations then their **product** (or the composition of $R$ and $S$) is the relation\n",
    "$S \\circ R$ on $A \\times C$ defined by\n",
    "$$\n",
    "S \\circ R = \\{ (a, c) : (a, b) \\in R,\\, (b, c) \\in S\n",
    "\\text{ for some } b \\in B \\}\n",
    "$$\n",
    "\n",
    "In this sense, the **join** of two tables $R$ and $S$\n",
    "which both need to have a column of type $B$\n",
    "is the table $S \\circ R$ consisting\n",
    "of all tuples $(a, c)$ such that\n",
    "$(a, b)$ is a row in $R$ and $(b, c)$ is\n",
    "a row in $S$.  Here, $a$ stands for \n",
    "**all** columns of $R$, except for the column of type $B$\n",
    "(which need not be the last one).  Likewise, $c$ stands for **all** columns of $S$ except for the column of type $B$ (which need not be the first one)."
   ]
  },
  {
   "cell_type": "markdown",
   "metadata": {},
   "source": [
    "**Example:**\n",
    "\n",
    "|Name | DeptId|\n",
    "|---|---|\n",
    "|Raftery|31|\n",
    "|Jones|33|\n",
    "|Heisenberg|33|\n",
    "|Robinson|34|\n",
    "|Smith|34|\n",
    "|Williams|none|\n",
    "\n",
    "|DeptId|Dept|\n",
    "|---|---|\n",
    "|31|Sales|\n",
    "|32|Marketing|\n",
    "|33|Engineering|\n",
    "|34|Clerical|\n",
    "\n",
    "|Name | DeptId|\n",
    "|---|---|\n",
    "|Raftery|Sales|\n",
    "|Jones|Engineering|\n",
    "|Heisenberg|Engineering|\n",
    "|Robinson|Clerical|\n",
    "|Smith|Clerical|\n"
   ]
  },
  {
   "cell_type": "markdown",
   "metadata": {},
   "source": [
    "##  Query Languages"
   ]
  },
  {
   "cell_type": "markdown",
   "metadata": {},
   "source": [
    "The set theoretical properties of the database tables\n",
    "are exploited by database query languages such as\n",
    "`SQL` (Structured Query Language).\n",
    "\n",
    "Such a database programming language\n",
    "manages the data in relational database management systems (RDBMS).\n",
    "\n",
    "It can be used to perform data queries and updates,\n",
    "schema creation and modification, and access control.\n",
    "\n",
    "SQL, the most widely used language for relational\n",
    "databases, originates from IBM in the 1970s."
   ]
  },
  {
   "cell_type": "markdown",
   "metadata": {},
   "source": [
    "## Relationships Between Tables"
   ]
  },
  {
   "cell_type": "markdown",
   "metadata": {},
   "source": [
    "A relationship connects different models (entities) in a way that\n",
    "makes an object of one type appear as an attribute of\n",
    "another type of objects.\n",
    "\n",
    "A relationship is an entity in its own right:\n",
    "depending on its kind, a relationship between tables\n",
    "can require its own table to be stored in.\n",
    "\n",
    "Relationships can exist between more than one type of\n",
    "entity.\n",
    "\n",
    "Relationships are declared in the **models**\n",
    "of the concerned entities.\n"
   ]
  },
  {
   "cell_type": "code",
   "execution_count": null,
   "metadata": {
    "collapsed": true
   },
   "outputs": [],
   "source": []
  }
 ],
 "metadata": {
  "kernelspec": {
   "display_name": "Ruby 2.3.1",
   "language": "ruby",
   "name": "ruby"
  },
  "language_info": {
   "file_extension": ".rb",
   "mimetype": "application/x-ruby",
   "name": "ruby",
   "version": "2.3.1"
  }
 },
 "nbformat": 4,
 "nbformat_minor": 2
}
