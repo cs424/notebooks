{
 "cells": [
  {
   "cell_type": "markdown",
   "metadata": {},
   "source": [
    "### CS424\n",
    "\n",
    "Prof. Götz Pfeiffer<br />\n",
    "School of Mathematics, Statistics and Applied Mathematics, NUI Galway"
   ]
  },
  {
   "cell_type": "markdown",
   "metadata": {},
   "source": [
    "# Lecture 9: Content vs Style"
   ]
  },
  {
   "cell_type": "markdown",
   "metadata": {
    "collapsed": true
   },
   "source": [
    "A web page is composed of **HTML** and **CSS**.  \n",
    "\n",
    "* The HTML part **contains** and\n",
    "**structures** the **content**.  \n",
    "\n",
    "* The CSS part declares **styling parameters** used to\n",
    "**present** different content elements in different ways.\n",
    "\n",
    "The 'ML' in HTML stands for **markup language**.  The idea behind **logical\n",
    "markup** is to **separate** the **content** and logical structure of a text from its\n",
    "**appearance**.  In a classical  WYSIWYG environment (e.g. a word document)\n",
    "you would work on content and appearance simultaneously, taking care to\n",
    "use larger letters for headings of various levels, italics or underlines for emphasis, etc.\n",
    "This approach that might be fine for\n",
    "a document that stands on ots own, is written and printed once.\n",
    "\n",
    "In a web application,  \n",
    "there are usually many documents of a similar kind\n",
    "that should look similar.  Also\n",
    "it is quite common to use the same text in many\n",
    "different contexts, possibly involving different media, e.g., web pages and pdf\n",
    "printouts.  \n",
    "\n",
    "To deal with the issues that arise it is convenient to know about the **logical\n",
    "structure** of a document (what is a header as opposed to a one-line\n",
    "paragraph?)  and to **keep the styling instructions separate**\n",
    "from the document content."
   ]
  },
  {
   "cell_type": "markdown",
   "metadata": {},
   "source": [
    "## Marking up Content"
   ]
  },
  {
   "cell_type": "markdown",
   "metadata": {},
   "source": [
    "Web pages are written in HTML (**H**yper**T**ext **M**arkup **L**anguage).\n",
    "* HTML is used to specify document layout and hyperlinks.\n",
    "* HTML is not a programming language.\n",
    "* Detailed tutorials and reference guides can be found on the [internet](https://www.w3schools.com/html)."
   ]
  },
  {
   "cell_type": "markdown",
   "metadata": {},
   "source": [
    "The main instrument for logical markup is **tagging**.  \n",
    "\n",
    "* Tags usually come\n",
    "in **pairs** (begin/end),\n",
    "the opening tag is simply the tag's name in angle brackets (`<` and `>`),\n",
    "in the closing tag the name is prefixed with slash (`/`).\n",
    "\n",
    "* Tag names are **case insensitive**.\n",
    "\n",
    "* Tags are used to **enclose a part of the text** without\n",
    "actually forming part of the text.  \n",
    "\n",
    "* Tags can be thought of as **named\n",
    "parentheses**, and like parentheses they **can nest**, but have to nest properly\n",
    "(although in practice browsers are very forgiving).\n",
    "\n",
    "* Anchor tags can be used to **link** parts of a web page to other pages; these links\n",
    "are usually highlighted by the browser and can easily \n",
    "be followed by a simple mouse-click.\n",
    "\n",
    "* Tags can have **attributes**, specified as part of the opening tag: image and anchor tags\n",
    "use attributes to refer to external resources.\n",
    "\n",
    "* The `id` and `class` attributes can be used to give page elements a **unique ID** or\n",
    "to make elements **belong to a particular class**."
   ]
  },
  {
   "cell_type": "markdown",
   "metadata": {},
   "source": [
    "Here is a sample HTML document.\n",
    "\n",
    "```html\n",
    "<html>\n",
    "  <head>\n",
    "     <title>My Document</title>\n",
    "  </head>\n",
    "  <body>\n",
    "    <h2>My First Document</h2>\n",
    "    <p>This is a <b>paragraph</b> of text.</p>\n",
    "    <p>\n",
    "      And this \n",
    "      is <a href=\"another.html\">another</a> paragraph.\n",
    "    </p>\n",
    "    <p>And this one contains an image: <img src=\"image.png\"></p>\n",
    "  </body>\n",
    "</html>\n",
    "```"
   ]
  },
  {
   "cell_type": "markdown",
   "metadata": {},
   "source": [
    "Like in the case of algebraic formulas, the proper nesting of tags gives any HTML documen\n",
    "the structure of a **tree**, called DOM: the [document object model](https://en.wikipedia.org/wiki/Document_Object_Model). \n",
    "The **nodes** in this tree correspond to tags or text fragments.\n",
    "A node's **children** are the parts of the document enclosed by a tag\n",
    "(text fragments don't have children).\n",
    "In this form, the document is represented in the browser."
   ]
  },
  {
   "cell_type": "markdown",
   "metadata": {},
   "source": [
    "```\n",
    "html\n",
    "+-head\n",
    "  +-title\n",
    "    +-\"My Document\"\n",
    "+-body\n",
    "  +-h2\n",
    "  +-p\n",
    "    +-\"This is a \"\n",
    "    +-b\n",
    "      +-\"paragraph\"\n",
    "    +-\" of text.\"\n",
    "  +-p\n",
    "    +-\"And this is \"\n",
    "    +-a(href: \"another.html\")\n",
    "      +-\"another\"\n",
    "    +-\"paragraph.\"\n",
    "  +-p\n",
    "    +-\"And this one contains an image:\"\n",
    "    +-img(src: \"image.png\")\n",
    "```"
   ]
  },
  {
   "cell_type": "markdown",
   "metadata": {},
   "source": [
    "The DOM is an **ordered rooted tree**, with `html` as the **root node**, where each node has an **ordered list of children**."
   ]
  },
  {
   "cell_type": "markdown",
   "metadata": {},
   "source": [
    "## Styling the Appearance"
   ]
  },
  {
   "cell_type": "markdown",
   "metadata": {},
   "source": [
    "Style is **orthogonal to content**.  If one header appears in a particular way\n",
    "then you usually want all headers to look like that.  And it would be\n",
    "convenient if that header style could be specified in one place, rather than\n",
    "having to repeat the same formatting instructions over and over again...\n",
    "\n",
    "Style in web pages is expressed in the CSS language.  Styling instructions can be specified\n",
    "* as `style` attribute of a tag,\n",
    "* as `<style>` tag inside a web page,\n",
    "* or in separate files called **(cascading) style sheets** (CSS)."
   ]
  },
  {
   "cell_type": "markdown",
   "metadata": {},
   "source": [
    "CSS is a powerful tool.  Detailed tutorials and reference guides can\n",
    "be found on the [internet](https:/www.w3schools.com/css).\n",
    "\n",
    "* A CSS style sheet is a collection of **rules**.\n",
    "\n",
    "* Each rule (or rule set) consists of one or more **selectors**  and a \n",
    "**declaration block**:\n",
    "```\n",
    "selector { property: value; }\n",
    "```\n",
    "\n",
    "* The declaration block is a collection of key/value pairs.\n",
    "\n",
    "* The selector specifies the part (or parts) of a document a declaration block applies.\n",
    "\n",
    "Selectors can refer to:\n",
    "* elements of a specific type (e.g. `h2`);\n",
    "* to elements specified by an attribute (like `id` or `class`);\n",
    "* or elements specified by their **relative position** in the document tree.\n",
    "\n",
    "Examples: \n",
    "* a declaration block can be applied to groups of selectors:\n",
    "```css\n",
    "h1, h2, h3 { text-align: \"center\"; }\n",
    "```\n",
    "is the same as\n",
    "```css\n",
    "h1 { text-align: \"center\"; }\n",
    "h2 { text-align: \"center\"; }\n",
    "h3 { text-align: \"center\"; }\n",
    "```\n",
    "\n",
    "* a sequence of tag names refer the to nesting of tags:\n",
    "```css\n",
    "p em { color: \"red\"; }\n",
    "```\n",
    "applies to `<em>` tags nested somewhere within `<p>` tags\n",
    "\n",
    "\n",
    "* a selector of the form `.classname` refers to a class.\n",
    "\n",
    "* a selector of `#idname` refers to an id.\n",
    "\n"
   ]
  },
  {
   "cell_type": "code",
   "execution_count": null,
   "metadata": {
    "collapsed": true
   },
   "outputs": [],
   "source": []
  }
 ],
 "metadata": {
  "kernelspec": {
   "display_name": "Ruby 2.3.1",
   "language": "ruby",
   "name": "ruby"
  },
  "language_info": {
   "file_extension": ".rb",
   "mimetype": "application/x-ruby",
   "name": "ruby",
   "version": "2.3.1"
  }
 },
 "nbformat": 4,
 "nbformat_minor": 2
}
