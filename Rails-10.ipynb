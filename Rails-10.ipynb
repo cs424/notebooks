{
 "cells": [
  {
   "cell_type": "markdown",
   "metadata": {},
   "source": [
    "### CS424\n",
    "\n",
    "Prof. Götz Pfeiffer<br />\n",
    "School of Mathematics, Statistics and Applied Mathematics, NUI Galway"
   ]
  },
  {
   "cell_type": "markdown",
   "metadata": {},
   "source": [
    "# Lecture 10: Actions"
   ]
  },
  {
   "cell_type": "markdown",
   "metadata": {
    "collapsed": true
   },
   "source": [
    "A `Rails` app implements **actions**."
   ]
  },
  {
   "cell_type": "markdown",
   "metadata": {},
   "source": [
    "An action is usually associated to a one particular controller\n",
    "and consists of $3$ parts:\n",
    "\n",
    "* a **route**\n",
    "\n",
    "* a **controller method**\n",
    "\n",
    "* a **view template**\n"
   ]
  },
  {
   "cell_type": "markdown",
   "metadata": {},
   "source": [
    "In order to install a desired route (without scaffolding), it helps\n",
    "to understand how these parts interact and what they are.\n",
    "We have seen examples of view templates and controller actions.\n",
    "Let's look at routes now."
   ]
  },
  {
   "cell_type": "markdown",
   "metadata": {},
   "source": [
    "## Routes"
   ]
  },
  {
   "cell_type": "markdown",
   "metadata": {},
   "source": [
    "Routes are defined in `config/routes.rb`.  Currently, ignoring the comments, this file contains just one command:\n",
    "```ruby\n",
    "resources :products\n",
    "```\n",
    "which sets up $7$ routes for the standard CRUD actions for a `product` model.  They can be listed for inspection with the command\n",
    "```bash\n",
    "rake routes\n",
    "```\n"
   ]
  },
  {
   "cell_type": "markdown",
   "metadata": {},
   "source": [
    "The 7 routes are summarized in the following table:\n",
    "\n",
    "HTTP|Path|Action|Use|Prefix\n",
    ":--|:--|:--|:-:|:--\n",
    "`GET` | `/products` | `index` | list all | `products_path` \n",
    "`GET` | `/products/new` | `new` | form for new | `new_product_path`\n",
    "`POST` | `/products` | `create` | create new | \n",
    "`GET` | `/products/:id` | `show` | display one | `product_path(:id)`\n",
    "`GET` | `/products/:id/edit` | `edit` | form for one | `edit_product_path(:id)`\n",
    "`PUT` | `/products/:id` | `update` | update one |\n",
    "`DELETE` | `/products/:id` | `destroy` | delete one |\n"
   ]
  },
  {
   "cell_type": "markdown",
   "metadata": {},
   "source": [
    "An route is identified by a **HTTP command** (`GET`, `POST`, `PUT` or `PATCH`, `DELETE`) and a **URL path**.  In this way, the same path\n",
    "(e.g. `/products/:id` for fixed value of `:id`) can be used for \n",
    "different purposes (i.e., actions)."
   ]
  },
  {
   "cell_type": "markdown",
   "metadata": {},
   "source": [
    "Each route has an associated controller method (action)\n",
    "described in the form `controller#action`.\n",
    "(In the above table the `product#` prefix of each action has been\n",
    "omitted.) This refers to a (`ruby`) method with that name in\n",
    "the `products_controller.rb` file in the `app/controllers` folder\n",
    "of the application."
   ]
  },
  {
   "cell_type": "markdown",
   "metadata": {},
   "source": [
    "The action's name is also used as the name of\n",
    "a **view template** `action.html.erb` in the application's\n",
    "`app/views/products` folder.\n",
    "These views are rendered by the controller.\n",
    "Some actions don't have an associated view."
   ]
  },
  {
   "cell_type": "markdown",
   "metadata": {},
   "source": [
    "## Implementing a New Action"
   ]
  },
  {
   "cell_type": "markdown",
   "metadata": {},
   "source": [
    "An action consists of $3$ parts.\n",
    "Accordingly,\n",
    "in order to implement a new action, one that is not part of a scaffold or otherwise automatically, there are $3$ things to be done:\n",
    "\n",
    "* define a controller method\n",
    "\n",
    "* design a view template\n",
    "\n",
    "* set up a route\n",
    "\n",
    "Specifically, let's say that as a new action, we want to add a catalogue listing\n",
    "of the products in the online store."
   ]
  },
  {
   "cell_type": "markdown",
   "metadata": {},
   "source": [
    "### Controller Method"
   ]
  },
  {
   "cell_type": "markdown",
   "metadata": {},
   "source": [
    "The requested action is similar to the existing `products#index` \n",
    "action, but it should be directed at customers rather than database maintainers."
   ]
  },
  {
   "cell_type": "code",
   "execution_count": null,
   "metadata": {
    "collapsed": true
   },
   "outputs": [],
   "source": []
  }
 ],
 "metadata": {
  "kernelspec": {
   "display_name": "Ruby 2.3.1",
   "language": "ruby",
   "name": "ruby"
  },
  "language_info": {
   "file_extension": ".rb",
   "mimetype": "application/x-ruby",
   "name": "ruby",
   "version": "2.3.1"
  }
 },
 "nbformat": 4,
 "nbformat_minor": 2
}
