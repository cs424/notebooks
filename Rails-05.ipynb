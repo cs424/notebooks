{
 "cells": [
  {
   "cell_type": "markdown",
   "metadata": {},
   "source": [
    "### CS424\n",
    "\n",
    "Prof. Götz Pfeiffer<br />\n",
    "School of Mathematics, Statistics and Applied Mathematics, NUI Galway"
   ]
  },
  {
   "cell_type": "markdown",
   "metadata": {},
   "source": [
    "# Lecture 5: Scaffolding a CRUD Interface"
   ]
  },
  {
   "cell_type": "markdown",
   "metadata": {},
   "source": [
    "`Rails`' design paradigm of [**Convention over Configuration**](https://en.wikipedia.org/wiki/Convention_over_configuration) allows\n",
    "us to generate a basic web interface to a particular database table\n",
    "at the push of a button.  Assuming a set of reasonable defaults,\n",
    "`Rails` can spare the programmer many design decisions, without limiting their flexibility.  Whatever the developer's personal taste, when interacting with a database table, they presumably want to be able to\n",
    "\n",
    "* **Create** new entries,\n",
    "* **Read** or \n",
    "* **Update** exisiting entries, and\n",
    "* **Delete** entries from the table.\n",
    "\n",
    "This common set of operations is known as [**CRUD** interface](https://en.wikipedia.org/wiki/Create,_read,_update_and_delete),\n",
    "the four basic functions of persistent storage."
   ]
  },
  {
   "cell_type": "markdown",
   "metadata": {
    "collapsed": true
   },
   "source": [
    "## Creating the Products table and Interface"
   ]
  },
  {
   "cell_type": "markdown",
   "metadata": {},
   "source": [
    "After creating a new `Rails` application, we will generate\n",
    "the scaffold for a database table of products, together with the\n",
    "web interface, and then initialize the database."
   ]
  },
  {
   "cell_type": "markdown",
   "metadata": {},
   "source": [
    "### Starting a new `Rails` App\n",
    "\n",
    "A first database table together with basic web interface can\n",
    "be created in `Rails` by a few commands.\n",
    "\n",
    "First, the application, let's call it `depot` (as in the book),\n",
    "is created.  The command for that is\n",
    "```bash\n",
    "rails new depot\n",
    "```\n",
    "This will create a new folder `depot` and a bunch of subfolders\n",
    "and files in there.  It might be a good idea to investigate that\n",
    "directory structure.  In any case, one should `cd` into the new directory:\n",
    "```bash\n",
    "cd depot\n",
    "```\n",
    "One can verify that the `rails` command created a working application\n",
    "by starting the builtin web server as\n",
    "```bash\n",
    "rails s\n",
    "```\n",
    "and then pointing a browser to `localhost:3000`.\n",
    "```bash\n",
    "firefox localhost:3000\n",
    "```\n",
    "It doesn't do much, but it works, and it is mine!"
   ]
  },
  {
   "cell_type": "markdown",
   "metadata": {},
   "source": [
    "### Generating the `Product` model\n",
    "\n",
    "In the initial Planning step, we decided that `product` object\n",
    "should have: \n",
    "* a (short) `title` (of type `string`),\n",
    "* a (possibly longer) `description` (of type `text`),\n",
    "* a reference `image_url` (of type `string`) to an image,\n",
    "* and, of course, a `price` (of type `decimal`).\n",
    "\n",
    "This information on the components of a `product`\n",
    "(and their types) is useful across the various parts of\n",
    "the application.  \n",
    "\n",
    "* It tells the **model**, what the components\n",
    "of a `product` object are\n",
    "and what columns the corresponding database table should have.\n",
    "\n",
    "* It tells the **view forms**, which\n",
    "fields (of what sizes) are needed to interact with\n",
    "the database table\n",
    "\n",
    "* It tells the **controller** which parameters to look out for\n",
    "in incoming requests for `product` related data.\n",
    "\n",
    "To set all of this up in the right way, takes a lot of careful\n",
    "planning, explicit coding and exhaustive testing. Or does it.\n",
    "In fact, these are standard elements of any CRUD interface\n",
    "to a database table.  Assuming certain defaults, `Rails`\n",
    "can generate all of this with a single command:\n",
    "```bash\n",
    "rails generate scaffold product title:string descripition:text \\\n",
    "  image_url:string price:decimal\n",
    "```\n",
    "Here,\n",
    "* `rails generate scaffold` is the `rails` **command** being used,\n",
    "* `product` (or `Product` or `products`) is the **name** of the type of object being modeled, and\n",
    "* `title:string`, ..., are pairs of names and types, separated by a colon (`:`), one for each component of a `product` object. The type\n",
    "is taken from a (short) list of available types and affects the\n",
    "representation of the component in the database.\n",
    "* The backslash (`\\`) is a `Unix` convention, indicating that all of\n",
    "this is really one line on the command line."
   ]
  },
  {
   "cell_type": "code",
   "execution_count": null,
   "metadata": {
    "collapsed": true
   },
   "outputs": [],
   "source": []
  }
 ],
 "metadata": {
  "kernelspec": {
   "display_name": "Ruby 2.3.1",
   "language": "ruby",
   "name": "ruby"
  },
  "language_info": {
   "file_extension": ".rb",
   "mimetype": "application/x-ruby",
   "name": "ruby",
   "version": "2.3.1"
  }
 },
 "nbformat": 4,
 "nbformat_minor": 2
}
