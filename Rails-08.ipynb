{
 "cells": [
  {
   "cell_type": "markdown",
   "metadata": {},
   "source": [
    "### CS424\n",
    "\n",
    "Prof. Götz Pfeiffer<br />\n",
    "School of Mathematics, Statistics and Applied Mathematics, NUI Galway"
   ]
  },
  {
   "cell_type": "markdown",
   "metadata": {},
   "source": [
    "# Lecture 8: Unit Testing"
   ]
  },
  {
   "cell_type": "markdown",
   "metadata": {
    "collapsed": true
   },
   "source": [
    "Unit testing is a software testing method by which individual units of source code, together with purpose built control data, are tested to determine whether they are fit for use.  Here, a **unit** is the\n",
    "**smallest** testable part of of an application,\n",
    "like an individual method, or a single line of code.\n",
    "\n",
    "Usually, unit tests are created during the (incremental)\n",
    "development of a project.  `Rails` produces some standard tests\n",
    "as part of the scaffolding process.  Beyond that, the developer\n",
    "is encouraged to provide their own unit tests, to ensure\n",
    "that the code meets the design specifications and behaves as intended."
   ]
  },
  {
   "cell_type": "markdown",
   "metadata": {},
   "source": [
    "##  Benefits of Unit Testing"
   ]
  },
  {
   "cell_type": "markdown",
   "metadata": {},
   "source": [
    "A unit test provides a strict written contract that a piece of code\n",
    "must satisfy.  Certain benefits can be derived from this.\n",
    "\n",
    "* Unit testing detects certain problems early in the development cycle: programming errors, specification mismatches ...\n",
    "\n",
    "* Writing unit tests makes developers think again\n",
    "about a unit's intended behaviour and can yield better\n",
    "structured code.\n",
    "\n",
    "* In the extreme, in test-driven development, unit tests\n",
    "are created before the actual application, and serve as \n",
    "precise form of the specification.\n",
    "\n",
    "* Unit testing facilitates change, and forms an important\n",
    "part of **regression testing** in the context of incremental\n",
    "development.\n",
    "\n",
    "* Unit tests can also serve as **documentation** of\n",
    "a unit's interface (API)."
   ]
  },
  {
   "cell_type": "markdown",
   "metadata": {},
   "source": [
    "## Limitations"
   ]
  },
  {
   "cell_type": "markdown",
   "metadata": {},
   "source": [
    "* Unit testing cannot catch every error in a program, since \n",
    "in general it is impossible to test every potential execution\n",
    "path in a complex program.\n",
    "\n",
    "* Unit testing does not test the interplay between different\n",
    "parts of an application.  This is done at a higher level \n",
    "with **integration testing**.\n",
    "\n",
    "* Many properties of a unit ideally need to be tested in \n",
    "several ways, catering for different circumstances.\n",
    "This can easily lead to **combinatorial explosion** of test cases.\n",
    "\n",
    "* Changes to the software and the tests need to \n",
    "be recorded by some form of **version control**.\n",
    "\n",
    "* Unit testing and reviewing the test outcomes\n",
    "needs to be part of the development/maintenance cycle."
   ]
  },
  {
   "cell_type": "markdown",
   "metadata": {},
   "source": [
    "## Unit Testing in `Rails`"
   ]
  },
  {
   "cell_type": "markdown",
   "metadata": {},
   "source": [
    "`Rails` keeps data and scripts concerned with testing separate\n",
    "from the application, in a folder `test`."
   ]
  },
  {
   "cell_type": "markdown",
   "metadata": {},
   "source": [
    "* **Fixtures**.  The folder `fixtures` contains\n",
    "purpose built data samples, described in the [YAML](http://yaml.org/) language.  Fixtures are used to populate a database\n",
    "for testing purposes.\n",
    "\n",
    "* Standard tests (**functional testing**) are automatically\n",
    "created for all controller actions in the folder `controllers`.\n",
    "Some of these tests make use of the fixtures.\n",
    "\n",
    "* A space for unit tests on each **model** is provided\n",
    "in the `models` folder.  This is the natural place for\n",
    "testing that validators behave as intended.\n"
   ]
  },
  {
   "cell_type": "code",
   "execution_count": null,
   "metadata": {
    "collapsed": true
   },
   "outputs": [],
   "source": []
  }
 ],
 "metadata": {
  "kernelspec": {
   "display_name": "Ruby 2.3.1",
   "language": "ruby",
   "name": "ruby"
  },
  "language_info": {
   "file_extension": ".rb",
   "mimetype": "application/x-ruby",
   "name": "ruby",
   "version": "2.3.1"
  }
 },
 "nbformat": 4,
 "nbformat_minor": 2
}
