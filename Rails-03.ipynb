{
 "cells": [
  {
   "cell_type": "markdown",
   "metadata": {},
   "source": [
    "### CS424\n",
    "\n",
    "# Lecture 3: Elements of the `ruby` Language"
   ]
  },
  {
   "cell_type": "markdown",
   "metadata": {},
   "source": [
    "`Rails` uses the `ruby` programming language for many parts of its applications.  `ruby` is an object oriented, interpreted language, which is similar to `python` or `java` in many ways, but has a number of intersting features which distinguish it from other languages. Overall,\n",
    "`ruby` should be easy to learn and to use.  Here we discuss some of the\n",
    "less familiar features."
   ]
  },
  {
   "cell_type": "markdown",
   "metadata": {},
   "source": [
    "## Objects\n",
    "\n",
    "`ruby` is object oriented to the bone:\n",
    "everything you manipulate in a `ruby` program is an object.\n",
    "This is in particular true of integers and strings:"
   ]
  },
  {
   "cell_type": "code",
   "execution_count": null,
   "metadata": {},
   "outputs": [],
   "source": [
    "puts 13.next\n",
    "puts \"hello\".length"
   ]
  },
  {
   "cell_type": "markdown",
   "metadata": {},
   "source": [
    "New **types** of objects are defined as classes, new instances of\n",
    "a class are created with the `new()` method"
   ]
  },
  {
   "cell_type": "code",
   "execution_count": null,
   "metadata": {},
   "outputs": [],
   "source": [
    "class Product\n",
    "end\n",
    "\n",
    "product = Product.new"
   ]
  },
  {
   "cell_type": "markdown",
   "metadata": {},
   "source": [
    "Note that **parentheses can** (and will) **be omitted** from method calls, if no confusion is caused.  Short method calls, in particular those without arguments, are easier and more natural to read without the parentheses.  In longer method calls with many arguments parentheses \n",
    "can provide useful structure."
   ]
  },
  {
   "cell_type": "markdown",
   "metadata": {},
   "source": [
    "## Names and Symbols\n",
    "\n",
    "Methods, variables, classes and other `ruby` elements have names.\n",
    "Several rules and conventions apply to names in `ruby`.\n",
    "\n",
    "* **method names**, **local variables**, **parameters** in method definitions all start with a **lowercase** letter (or an underscore):\n",
    "`new`, `length`, `product`, `x123`, `line_item`, ...\n",
    "\n",
    "* **instance variables** begin with an at sign (`@`): `@price`, `@product_id`, ...\n",
    "\n",
    "* **symbols** (see below) begin with a colon (`:`): `:id`, `:price`, ...\n",
    "\n",
    "* **class names**, **module names** and **constants** start with an **uppercase** letter: `Product`, `LineItem`, ...\n",
    "\n",
    "###  `under_score` vs `CamelCase`\n",
    "\n",
    "Often a name is a composite of several words.  In `ruby`, the convention\n",
    "for names starting with a lowercase letter (e.g. local variables)\n",
    "is to separate the individual words by underscores (`line_item`).\n",
    "If a name starts with capital letter (e.g. class names) then further\n",
    "capital letters are used to mark the first letter\n",
    "of each new word.  This latter convention is called \"CamelCase\" in reference to the humps on a camel's back ...\n",
    "\n",
    "### Symbols\n",
    "\n",
    "`ruby` symbols are like strings, but shorter (by one keystoke) and more efficient.  Symbols are preferred over strings as keys in hash tables,\n",
    "or where the code uses text not for its content but as a unique indentifier.  Unlike variables, a symbols does not refer to a value\n",
    "but, like a string, is a value on its own.  Expect to see many symbols in a `rails` application.\n"
   ]
  },
  {
   "cell_type": "code",
   "execution_count": null,
   "metadata": {},
   "outputs": [],
   "source": [
    ":symbol = 1  # will cause an error"
   ]
  },
  {
   "cell_type": "code",
   "execution_count": 4,
   "metadata": {},
   "outputs": [
    {
     "name": "stdout",
     "output_type": "stream",
     "text": [
      "true\n"
     ]
    }
   ],
   "source": [
    "s = :symbol  # assign symbol to variable s\n",
    "t = :symbol  # assign same symbol to variable t\n",
    "puts s == t       # are they equal?"
   ]
  },
  {
   "cell_type": "markdown",
   "metadata": {},
   "source": [
    "## Strings, Arrays and Hashes\n",
    "\n",
    "Like other programming languages, `ruby` has several ways of\n",
    "forming indexed collections of data.\n",
    "\n",
    "### Strings\n",
    "\n",
    "`ruby` strings are **sequences of characters** enclosed in pairs of single \n",
    "or double quotes (`'string'` or `\"string\"`).  The difference between the two forms of string literals is that a **single-quoted** string is taken\n",
    "almost **literally**, whereas a `ruby` processes a **double-quoted** string\n",
    "in order to determine its actual value.  Here, **escaped characters**\n",
    "like `\\n` are replaced by their intended meaning.  Moreover,\n",
    "embedded expressions of the form `#{expression}` are **interpolated**.\n"
   ]
  },
  {
   "cell_type": "code",
   "execution_count": 5,
   "metadata": {},
   "outputs": [
    {
     "name": "stdout",
     "output_type": "stream",
     "text": [
      "There is a \" in the middle of this string\n",
      "There is a ' in the middle of this string\n",
      "There is a ' in the middle of this string\n",
      "There is a \" in the middle of this string\n",
      "Good morning, Jack!\n"
     ]
    }
   ],
   "source": [
    "puts 'There is a \" in the middle of this string'\n",
    "puts 'There is a \\' in the middle of this string'\n",
    "puts \"There is a ' in the middle of this string\"\n",
    "puts \"There is a \\\" in the middle of this string\"\n",
    "name = \"Jack\"\n",
    "puts \"Good morning, #{name}!\""
   ]
  },
  {
   "cell_type": "markdown",
   "metadata": {},
   "source": [
    "* **Indexing and Slicing.** Individual characters in a string and subsequences can be accessed\n",
    "by their position in the string."
   ]
  },
  {
   "cell_type": "code",
   "execution_count": 6,
   "metadata": {},
   "outputs": [
    {
     "name": "stdout",
     "output_type": "stream",
     "text": [
      "m\n",
      "long\n"
     ]
    }
   ],
   "source": [
    "string = \"I am a long string.\"\n",
    "#         0123456789012345678\n",
    "puts string[3]      # character at position 3\n",
    "puts string[7..10]  # substring at positions 7 to 10 incl."
   ]
  },
  {
   "cell_type": "markdown",
   "metadata": {},
   "source": [
    "* **Concatenation.** Strings can be concatenated (using `+`) and extended (using `<<`)."
   ]
  },
  {
   "cell_type": "code",
   "execution_count": 7,
   "metadata": {},
   "outputs": [
    {
     "name": "stdout",
     "output_type": "stream",
     "text": [
      "hello world!\n"
     ]
    }
   ],
   "source": [
    "a = \"hello\"\n",
    "b = \"world\"\n",
    "puts a + ' ' + b + '!'"
   ]
  },
  {
   "cell_type": "code",
   "execution_count": 8,
   "metadata": {},
   "outputs": [
    {
     "name": "stdout",
     "output_type": "stream",
     "text": [
      "hello world!\n"
     ]
    }
   ],
   "source": [
    "a << ' '\n",
    "b << '!'\n",
    "puts a + b"
   ]
  },
  {
   "cell_type": "code",
   "execution_count": 9,
   "metadata": {},
   "outputs": [
    {
     "name": "stdout",
     "output_type": "stream",
     "text": [
      "----------------------------------------\n"
     ]
    }
   ],
   "source": [
    "puts '-' * 40"
   ]
  },
  {
   "cell_type": "markdown",
   "metadata": {},
   "source": [
    "### Arrays\n",
    "\n",
    "An arrays is an ordered collection of objects.  The objects in an\n",
    "array can all be of the same type, but they don't have to.  And they\n",
    "can be arrays themselves, allowing for arbitrarily deep nesting."
   ]
  },
  {
   "cell_type": "code",
   "execution_count": 10,
   "metadata": {},
   "outputs": [
    {
     "data": {
      "text/plain": [
       "[1, \"dog\", 3.14, []]"
      ]
     },
     "execution_count": 10,
     "metadata": {},
     "output_type": "execute_result"
    }
   ],
   "source": [
    "aaa = [1, 'dog', 3.14, []]"
   ]
  },
  {
   "cell_type": "markdown",
   "metadata": {},
   "source": [
    "**Indexing and Slicing.** Individual elements in an array, and subsequences are accessed by their position in the array. **Negative addresses** are positions relative to the end of the array."
   ]
  },
  {
   "cell_type": "code",
   "execution_count": 11,
   "metadata": {},
   "outputs": [
    {
     "name": "stdout",
     "output_type": "stream",
     "text": [
      "dog\n",
      "[]\n",
      "[1, \"dog\", 3.14, []]\n"
     ]
    }
   ],
   "source": [
    "puts aaa[1]      # second(!) array element, positions start at 0\n",
    "puts aaa[-1]     # last array element\n",
    "puts aaa[0..-1]  # a copy of the entire array"
   ]
  },
  {
   "cell_type": "code",
   "execution_count": 12,
   "metadata": {},
   "outputs": [
    {
     "name": "stdout",
     "output_type": "stream",
     "text": [
      "[1, \"dog\", 3.14, nil]\n"
     ]
    }
   ],
   "source": [
    "aaa[-1] = nil\n",
    "puts aaa"
   ]
  },
  {
   "cell_type": "code",
   "execution_count": 13,
   "metadata": {},
   "outputs": [
    {
     "name": "stdout",
     "output_type": "stream",
     "text": [
      "[1, 1, 2, 3, nil]\n"
     ]
    }
   ],
   "source": [
    "aaa[1..2] = [1,2,3]\n",
    "puts aaa"
   ]
  },
  {
   "cell_type": "markdown",
   "metadata": {},
   "source": [
    "* **Concatenation.** Arrays can be concatenated (using `+`) and extended (using `<<`)."
   ]
  },
  {
   "cell_type": "code",
   "execution_count": 14,
   "metadata": {},
   "outputs": [
    {
     "name": "stdout",
     "output_type": "stream",
     "text": [
      "[1, 2, 3, \"a\", \"b\", \"c\"]\n"
     ]
    }
   ],
   "source": [
    "puts [1,2,3] + ['a', 'b', 'c']"
   ]
  },
  {
   "cell_type": "markdown",
   "metadata": {},
   "source": [
    "* Strings and arrays have some behavior in common, but strings are not arrays.  To convert a string into the array of the characters it consists of, use the `chars()` method."
   ]
  },
  {
   "cell_type": "code",
   "execution_count": 15,
   "metadata": {},
   "outputs": [
    {
     "name": "stdout",
     "output_type": "stream",
     "text": [
      "[\"a\", \"b\", \"c\"]\n"
     ]
    }
   ],
   "source": [
    "puts \"abc\".chars"
   ]
  },
  {
   "cell_type": "markdown",
   "metadata": {},
   "source": [
    "## Hashes\n",
    "\n",
    "A hash (aka record, dictionary, ...) is an unordered collection of\n",
    "key-value pairs.\n",
    "\n",
    "* Values in a hash are accessed by their key.\n",
    "\n",
    "* In `ruby`, any object can be a hash key, often symbols are used.\n",
    "\n",
    "* Hash literals are enclosed in curly braces (`{ ... }`)."
   ]
  },
  {
   "cell_type": "code",
   "execution_count": 16,
   "metadata": {},
   "outputs": [
    {
     "name": "stdout",
     "output_type": "stream",
     "text": [
      "{:id=>3, :name=>\"book\", :price=>12.99}\n"
     ]
    }
   ],
   "source": [
    "product = {\n",
    "  :id => 3,\n",
    "  :name => \"book\",\n",
    "  :price => 12.99\n",
    "  }\n",
    "puts product"
   ]
  },
  {
   "cell_type": "code",
   "execution_count": 17,
   "metadata": {},
   "outputs": [
    {
     "name": "stdout",
     "output_type": "stream",
     "text": [
      "12.99\n"
     ]
    }
   ],
   "source": [
    "puts product[:price]"
   ]
  },
  {
   "cell_type": "code",
   "execution_count": 18,
   "metadata": {},
   "outputs": [
    {
     "name": "stdout",
     "output_type": "stream",
     "text": [
      "{:id=>3, :name=>\"book\", :price=>9.99}\n"
     ]
    }
   ],
   "source": [
    "product[:price] -= 3   # price reduction\n",
    "puts product"
   ]
  },
  {
   "cell_type": "markdown",
   "metadata": {},
   "source": [
    "In recent versions of `ruby`, key-value pairs of the form\n",
    "`:price => 12.99`, where the key is a symbol, can be abbreviated\n",
    "in the form `price: 12.99`.  Expect to see both forms in a `rails` application."
   ]
  },
  {
   "cell_type": "code",
   "execution_count": 19,
   "metadata": {},
   "outputs": [
    {
     "name": "stdout",
     "output_type": "stream",
     "text": [
      "{:id=>3, :name=>\"book\", :price=>12.99}\n"
     ]
    }
   ],
   "source": [
    "product = { id: 3, name: \"book\", price: 12.99 }\n",
    "puts product"
   ]
  },
  {
   "cell_type": "markdown",
   "metadata": {},
   "source": [
    "## Method Calls\n",
    "\n",
    "A `ruby` method invocation expression has (up to) four parts:\n",
    "\n",
    "* An **object** on behalf of which the method is invoked,\n",
    "followed by a dot (`.`), the method invocation operator.\n",
    "If object and dot are omitted, the method is invoked on `self`.\n",
    "\n",
    "* The method **name** (required!).\n",
    "\n",
    "* A list of **argument**, possibly empty, separated by commas (`,`),\n",
    "and optionally enclosed in parentheses (`(...)`).\n",
    "\n",
    "* An optional **block** of code, delimited by curly braces (`{ ... }`)\n",
    "or a `do ... end` pair. The method may invoke this code using a `yield` statement.  Such a block can have parameters, separated by commas\n",
    "and enclosed in `| ... |`."
   ]
  },
  {
   "cell_type": "code",
   "execution_count": 20,
   "metadata": {},
   "outputs": [
    {
     "name": "stdout",
     "output_type": "stream",
     "text": [
      "Ho!\n",
      "Ho!\n",
      "Ho!\n"
     ]
    },
    {
     "data": {
      "text/plain": [
       "3"
      ]
     },
     "execution_count": 20,
     "metadata": {},
     "output_type": "execute_result"
    }
   ],
   "source": [
    "3.times do puts 'Ho!' end"
   ]
  },
  {
   "cell_type": "markdown",
   "metadata": {},
   "source": [
    "`ruby` methods have other particular properties worth pointing out.\n",
    "\n",
    "* Hashes frequently appear as the last argument to a method.\n",
    "There, the curly braces around a hash literal can be omitted, as in\n",
    "```ruby\n",
    "    Product.new(name: book, price: 12.99)\n",
    "```\n",
    "\n",
    "* Method names can contain special characters.  By convention, a method name ending in a question mark (`?`) indicates that this method returns `true` or `false`."
   ]
  },
  {
   "cell_type": "code",
   "execution_count": 21,
   "metadata": {},
   "outputs": [
    {
     "name": "stdout",
     "output_type": "stream",
     "text": [
      "true\n"
     ]
    }
   ],
   "source": [
    "puts [].empty?"
   ]
  },
  {
   "cell_type": "markdown",
   "metadata": {},
   "source": [
    "* A method name ending in an exclamation mark (`!`) indicates that this\n",
    "method destroys (part of) its receiver."
   ]
  },
  {
   "cell_type": "code",
   "execution_count": 22,
   "metadata": {},
   "outputs": [
    {
     "name": "stdout",
     "output_type": "stream",
     "text": [
      "[2, 3, 5, 7, 11]\n"
     ]
    }
   ],
   "source": [
    "list = [7, 11, 5, 3, 2]\n",
    "list.sort!\n",
    "puts list"
   ]
  },
  {
   "cell_type": "markdown",
   "metadata": {},
   "source": [
    "## Control Structures\n",
    "\n",
    "`ruby` uses keywords (rather than curly braces to delimit\n",
    "blocks of statements inside compund statements.  Usually, \n",
    "the keyword `end` marks the end of a compound statement.\n",
    "For example, an `if` statement looks like\n",
    "```ruby\n",
    "    if mark < 40\n",
    "      grade = \"E\"\n",
    "    elsif mark < 60\n",
    "      grade = \"C\"\n",
    "    else\n",
    "      grade = \"A\"\n",
    "    end\n",
    "```\n",
    "and a `while` statement looks like\n",
    "```ruby\n",
    "    while N > 0\n",
    "      N = N % 2\n",
    "      i++\n",
    "    end\n",
    "```\n"
   ]
  },
  {
   "cell_type": "markdown",
   "metadata": {},
   "source": [
    "There are **variants** of these statements: `unless` works like `if not`, \n",
    "and `until` works like `while not`.  All of these four keywords can be used as **statement modifiers**:\n",
    "```ruby\n",
    "    puts \"Alarm\" if time > 14.50\n",
    "```\n",
    "Often these variations allow for code that solves a problem in way that\n",
    "reads nice as an English phrase."
   ]
  },
  {
   "cell_type": "code",
   "execution_count": null,
   "metadata": {
    "collapsed": true
   },
   "outputs": [],
   "source": []
  }
 ],
 "metadata": {
  "kernelspec": {
   "display_name": "Ruby 2.3.1",
   "language": "ruby",
   "name": "ruby"
  },
  "language_info": {
   "file_extension": ".rb",
   "mimetype": "application/x-ruby",
   "name": "ruby",
   "version": "2.3.1"
  }
 },
 "nbformat": 4,
 "nbformat_minor": 2
}
