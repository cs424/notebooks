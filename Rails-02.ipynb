{
 "cells": [
  {
   "cell_type": "markdown",
   "metadata": {},
   "source": [
    "### CS424\n",
    "\n",
    "# Lecture 2: Model View Controller\n",
    "\n",
    "Rails imposes a specific architecture on the applications that are built.  This follows a design for interactive applications,\n",
    "proposed in 1979, that breaks the application into 3 kinds of components: models, views and controllers.\n",
    "\n",
    "### Model\n",
    "\n",
    "* maintain the **state** of the application,\n",
    "transient or permanent, stored outside the application\n",
    "in a database.\n",
    "\n",
    "* enforces **business rules** that apply to the data,\n",
    "acting as a gatekeeper so that no part of the application can invalidate data.\n",
    "\n",
    "### View\n",
    "\n",
    "* generates a **user interface** based on data, \n",
    "possibly several different views of the same data for different purposes.\n",
    "\n",
    "* doesn't handle incoming data, just provides ways (forms) for **data input**.\n",
    "\n",
    "### Controller\n",
    "\n",
    "* receives events from the outside world (user input)\n",
    "\n",
    "* interacts with the model\n",
    "\n",
    "* responds by displaying an appropriate view to the user.\n",
    "\n",
    "\n",
    "### Workflow\n",
    "\n",
    "The model, view, and controller (MVC) form an application architecture, which typically cycles through\n",
    "the following steps\n",
    "\n",
    "1. the browser sends a **request** (URI) to the application\n",
    "\n",
    "2. the controller receives the request, identifies\n",
    "an appropriate **action**, and interacts with the model\n",
    "to retrieve the required data\n",
    "\n",
    "3. the controller invokes an appropriate **view**\n",
    "\n",
    "4. the view renders the next browser screen\n",
    "\n",
    "### Scaffolding\n",
    "\n",
    "The **separation of concerns** provided by the MVC\n",
    "architecture allows `rails` to automatically produce template files, using intelligent defaults.  This process is called **scaffolding** and, on the command \n",
    "line, looks as follows:\n",
    "```\n",
    "  rails generate scaffold product name:string price:decimal\n",
    "```\n",
    "This command will set up code for all 3 types of components for a data type `product` that is concerned with data/objects that have `name` and `price` attributes.  This is just one example of the `Rails`\n",
    "philosophie of favoring **convention over configuration**."
   ]
  },
  {
   "cell_type": "markdown",
   "metadata": {},
   "source": [
    "## Model Support\n",
    "\n",
    "Many applications stores some of the information it deals with in a relational database:  product details,\n",
    "customer details, or even unstructured text from blogs\n",
    "ore news sites.  Relational databases are built\n",
    "according to the principals of set theory.  This mathematical foundation allows us to map **relational data** to `ruby` **objects** in a straightforward way."
   ]
  },
  {
   "cell_type": "code",
   "execution_count": null,
   "metadata": {
    "collapsed": true
   },
   "outputs": [],
   "source": []
  }
 ],
 "metadata": {
  "kernelspec": {
   "display_name": "Ruby 2.3.1",
   "language": "ruby",
   "name": "ruby"
  },
  "language_info": {
   "file_extension": ".rb",
   "mimetype": "application/x-ruby",
   "name": "ruby",
   "version": "2.3.1"
  }
 },
 "nbformat": 4,
 "nbformat_minor": 2
}
