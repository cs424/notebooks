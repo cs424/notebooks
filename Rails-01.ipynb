{
 "cells": [
  {
   "cell_type": "markdown",
   "metadata": {
    "collapsed": true
   },
   "source": [
    "### CS424. Internet Programming and Object Oriented Programming\n",
    "\n",
    "# Lecture 1: Hello Rails!"
   ]
  },
  {
   "cell_type": "markdown",
   "metadata": {},
   "source": [
    "**Lecturer:** Götz Pfeiffer [ADB-1008]"
   ]
  },
  {
   "cell_type": "markdown",
   "metadata": {},
   "source": [
    "**Timetable**: Mon 14-15 [ADB-1020]; Wed 10-11 [AMB-G043]"
   ]
  },
  {
   "cell_type": "markdown",
   "metadata": {},
   "source": [
    "**Practicals:** Wed 11-13 [ADB-1019] ??"
   ]
  },
  {
   "cell_type": "markdown",
   "metadata": {},
   "source": [
    "In this course we will study the question of _How to develop a database driven web application?_ Examples of such applications abound on the internet: online shops, news sites, blogs and other social networking sites. Typically, such a site consists of a small or large database, and some additional software that provides read or write access to the data through a dynamically created web pages.  Setting up such a site is a complex undertaking, as many different aspects of the application have to be taken care of and connected to each other.\n",
    "\n",
    "A rough subdivision of the work is provided by the **Model, View, Controller** architecture, which splits the code that makes up the application into three parts:\n",
    "\n",
    "* Model: all code that is concerned with the data in the database;\n",
    "\n",
    "* View: all code concerned with the appearance of web pages in a browser;\n",
    "\n",
    "* Controller: the business logic connecting the two other parts.\n",
    "\n",
    "In this course, we will be using **Ruby on Rails** as the development framework for database-centric interactive web-based applications.  This allows us to access and modify the contents of a database without using SQL.\n",
    "\n",
    "However, we will encounter several other interesting programming languages (e.g. `ruby`, `javascript`) and document formats (e.g. `html`, `yml`, `json`) that are useful in this context."
   ]
  },
  {
   "cell_type": "markdown",
   "metadata": {},
   "source": [
    "## (Ruby on) Rails\n",
    "\n",
    "sets, follows, supports, or enforces certain _standards_:\n",
    "\n",
    "* software architecture: MVC (Model-View-Controller)\n",
    "\n",
    "* design patterns: CRUD (Create-Read-Update-Delete)\n",
    "\n",
    "* protocols: REST (Representational State Transfer)\n",
    "\n",
    "* principles: DRY (Don't Repeat Yourself)\n",
    "\n",
    "starts witha working application, developed incrementally.\n",
    "\n",
    "validation, unit testing, version control ...\n",
    "\n",
    "Rails includes:\n",
    "\n",
    "* an **application framework** to generate data-driven interactive web pages,\n",
    "\n",
    "* a built-in **web server** to display these pages,\n",
    "\n",
    "* an integrated SQLite3 **database**,\n",
    "\n",
    "* an **object-relational mapping library** to make the database look like a collection of simple `ruby` objects."
   ]
  },
  {
   "cell_type": "markdown",
   "metadata": {},
   "source": [
    "## Ruby\n",
    "\n",
    "Ruby is an elegant, object-oriented, interpreted, open-source, general purpose programming language with a focus on simplicity and and productivity; see\n",
    "[www.ruby-lang.org]."
   ]
  },
  {
   "cell_type": "markdown",
   "metadata": {},
   "source": [
    "### For example, to print the squares of the numbers from 0 to 9:\n",
    "\n",
    "In `C` you'd write\n",
    "\n",
    "```\n",
    "  for (i = 0; i < 10; i++) {\n",
    "     printf(\"(%d)^2 = %d\", i, i*i);\n",
    "     }\n",
    "```\n",
    "  \n",
    "In `python`\n",
    "\n",
    "```\n",
    "for i in range(10):\n",
    "  print(i, \"^2 = \", i**2)\n",
    "```\n",
    "\n",
    "In `ruby` it's truly object oriented:\n"
   ]
  },
  {
   "cell_type": "code",
   "execution_count": null,
   "metadata": {},
   "outputs": [],
   "source": [
    "10.times do |i| print i, \"^2 = \", i**2, \"\\n\" end"
   ]
  }
 ],
 "metadata": {
  "kernelspec": {
   "display_name": "Ruby 2.3.1",
   "language": "ruby",
   "name": "ruby"
  },
  "language_info": {
   "file_extension": ".rb",
   "mimetype": "application/x-ruby",
   "name": "ruby",
   "version": "2.3.1"
  }
 },
 "nbformat": 4,
 "nbformat_minor": 2
}
