{
 "cells": [
  {
   "cell_type": "markdown",
   "metadata": {},
   "source": [
    "### CS424\n",
    "\n",
    "Prof. Götz Pfeiffer<br />\n",
    "School of Mathematics, Statistics and Applied Mathematics, NUI Galway"
   ]
  },
  {
   "cell_type": "markdown",
   "metadata": {},
   "source": [
    "# Lecture 6: Version Control"
   ]
  },
  {
   "cell_type": "markdown",
   "metadata": {
    "collapsed": true
   },
   "source": [
    "Experience shows that during the development and maintenance of software, the\n",
    "files containing the code and other data change a lot over time. And a typical\n",
    "software project usually consists of MANY files.  In the light of incremental\n",
    "development one wants to:\n",
    "\n",
    "* **avoid the loss** of valuable information\n",
    "\n",
    "* support **collaboration** of groups of developers on many files\n",
    "\n",
    "* **document change**: who what when why\n",
    "\n",
    "* ...\n",
    "\n",
    "Solution: keep copies of every version of every file\n",
    "under a simple administrative layer!  That's the purpose of\n",
    "**version control systems**."
   ]
  },
  {
   "cell_type": "markdown",
   "metadata": {},
   "source": [
    "## The `git` Version Control System"
   ]
  },
  {
   "cell_type": "markdown",
   "metadata": {},
   "source": [
    "`git` keeps the files comprising a project in **repositories**.\n",
    "\n",
    "A **repository** is a database containing all the information neede to retain\n",
    "and manage the the **revisions** and history of a project.  This includes\n",
    "a complete copy of the entire project.\n",
    "\n",
    "The repository sits in a (hidden) folder `.git` next to a working copy\n",
    "of the project.  It maintains two **primary data structures**: the\n",
    "**object store** and the **index**.  The object store can be used to\n",
    "make copies (clones) of the project, usually as part of a distributed\n",
    "version control.  The index is transitory and private to a particular\n",
    "repository."
   ]
  },
  {
   "cell_type": "markdown",
   "metadata": {},
   "source": [
    "## The Object Store"
   ]
  },
  {
   "cell_type": "markdown",
   "metadata": {},
   "source": [
    "The Object Store forms the heart of a `git` repository.\n",
    "It contains the original files, together with log messages,\n",
    "author information, dates, and other information needed to rebuild\n",
    "any version or branch of the project.\n",
    "\n",
    "`git`'s higher level data structure work with (only) four types\n",
    "of objects: blobs, trees, commits, and tags."
   ]
  },
  {
   "cell_type": "markdown",
   "metadata": {},
   "source": [
    "### Blobs\n",
    "\n",
    "Each version of a file is stored as a **blob**.\n",
    "Blobs are \"binary large objects\", this is any file\n",
    "(without meta data) whose internal structure is\n",
    "ignored by `git`.\n",
    "Each blob has a **unique identifier** which is\n",
    "used to refer to it."
   ]
  },
  {
   "cell_type": "markdown",
   "metadata": {},
   "source": [
    "### Trees\n",
    "\n",
    "A **tree** object represents one level of directory\n",
    "information. It records blob identifiers,\n",
    "paths, metadata, and possibly other trees."
   ]
  },
  {
   "cell_type": "markdown",
   "metadata": {},
   "source": [
    "### Commits\n",
    "\n",
    "A **commit** object holds metadata for each change performed on the\n",
    "repository: author, committer, commit date, and a log message.\n",
    "It points to a tree object that captures the current state of the repository\n",
    "as a snapshot, and to a commit **parent** (unless it is the initial commit).\n"
   ]
  },
  {
   "cell_type": "markdown",
   "metadata": {},
   "source": [
    "### Tags\n",
    "\n",
    "A **tag** assigns a human readable name to an object, usually a commit."
   ]
  },
  {
   "cell_type": "markdown",
   "metadata": {},
   "source": [
    "## The Index\n",
    "\n",
    "The index is a temporary and dynamic binary file\n",
    "that captures a version of the project.\n",
    "The developer edits, adds or deletes files\n",
    "in the working copy.\n",
    "These changes can be **staged** in the index until\n",
    "the developer is ready to commit a set of changes.\n",
    "This setup allows for a gradual transition from\n",
    "one state of the project to another (better)\n",
    "state, and thus supports incremental development."
   ]
  },
  {
   "cell_type": "code",
   "execution_count": null,
   "metadata": {
    "collapsed": true
   },
   "outputs": [],
   "source": []
  },
  {
   "cell_type": "code",
   "execution_count": null,
   "metadata": {
    "collapsed": true
   },
   "outputs": [],
   "source": []
  }
 ],
 "metadata": {
  "kernelspec": {
   "display_name": "Ruby 2.3.1",
   "language": "ruby",
   "name": "ruby"
  },
  "language_info": {
   "file_extension": ".rb",
   "mimetype": "application/x-ruby",
   "name": "ruby",
   "version": "2.3.1"
  }
 },
 "nbformat": 4,
 "nbformat_minor": 2
}
