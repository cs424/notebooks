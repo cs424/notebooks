{
 "cells": [
  {
   "cell_type": "markdown",
   "metadata": {},
   "source": [
    "### CS424\n",
    "\n",
    "Prof. Götz Pfeiffer<br />\n",
    "School of Mathematics, Statistics and Applied Mathematics<br />\n",
    "NUI Galway"
   ]
  },
  {
   "cell_type": "markdown",
   "metadata": {},
   "source": [
    "# Lecture 15: Ajax"
   ]
  },
  {
   "cell_type": "markdown",
   "metadata": {
    "collapsed": true
   },
   "source": [
    "Traditionally, HTTP responses are complete web pages.\n",
    "Almost every incoming request resulted in a complete page being loaded from the server.\n",
    "If the new page is identical to the old one, except for changes restricted\n",
    "to a small part of the page,  this behavior is inefficient, places unnecessary burdens\n",
    "on the server and the network bandwith, and makes for an unpleasant user experience:\n",
    "all page content disappears, only to reappear in a slightly modified fashion.\n",
    "\n",
    "**AJAX** is a set of web development techniques,\n",
    "that use **asynchronous requests** to update only parts of the current page.\n",
    "\n",
    "* AJAX is short for **asynchronous JavaScript and XML**.\n",
    "\n",
    "* AJAX is applied on the **client side** (browser).\n",
    "\n",
    "* AJAX communicates with a server in the background, \n",
    "without changing the URL of the current page.\n",
    "\n",
    "* AJAX was made popular by Gmail and GoogleMaps in 2005."
   ]
  },
  {
   "cell_type": "markdown",
   "metadata": {
    "collapsed": true
   },
   "source": [
    "## Technologies"
   ]
  },
  {
   "cell_type": "markdown",
   "metadata": {},
   "source": [
    "AJAX is not a technology, but rather a group of technologies.\n",
    "In the article that coined the term Ajax, Jesse James Garrett explained that the following technologies are incorporated:\n",
    "\n",
    "* `HTML` (or `XHTML`) and `CSS` for presentation,\n",
    "* The Document Object Model (`DOM`) for dynamic display of and interaction with data,\n",
    "* `JSON` or `XML` for the interchange of data, and `XSLT` for its manipulation,\n",
    "* The `XMLHttpRequest` object for asynchronous communication,\n",
    "* `JavaScript` to bring these technologies together.\n",
    "\n",
    "Since then, however, there have been a number of developments in the technologies used in an Ajax application, and in the definition of the term Ajax itself. `XML` is no longer required for data interchange and, therefore, `XSLT` is no longer required for the manipulation of data. JavaScript Object Notation (`JSON`) is often used as an alternative format for data interchange, although other formats such as preformatted `HTML` or plain text can also be used. A variety of popular `JavaScript` libraries, such as `JQuery`, include abstractions to assist in executing Ajax requests.\n"
   ]
  },
  {
   "cell_type": "markdown",
   "metadata": {},
   "source": [
    "## Drawbacks (Use AJAX with care)"
   ]
  },
  {
   "cell_type": "markdown",
   "metadata": {},
   "source": [
    "* Any user whose browser does not support `JavaScript` or `XMLHttpRequest`, or has this functionality disabled, will not be able to properly use pages that depend on Ajax. The only way to let the user carry out functionality is to fall back to non-JavaScript methods. This can be achieved by making sure links and forms can be resolved properly and not relying solely on Ajax.\n",
    "\n",
    "* The asynchronous callback-style of programming required can lead to complex code that is hard to maintain, to debug and to test.\n",
    "\n",
    "* Asynchronous Web page updates also make it difficult to bookmark and return to a particular state of the application. \n",
    "\n",
    "* Asynchronous page updates may disrupt user interactions, particularly if the Internet connection is slow or unreliable.\n"
   ]
  },
  {
   "cell_type": "markdown",
   "metadata": {},
   "source": [
    "## `JavaScript`"
   ]
  },
  {
   "cell_type": "markdown",
   "metadata": {},
   "source": [
    "Most modern browsers contain a `JavaScript` engine.\n",
    "\n",
    "`JavaScript` ...\n",
    "\n",
    "* ... is not to be confused with `Java`: the two languages are distinct and differ greatly in design.\n",
    "\n",
    "* ... appeared in 1995 as part of a beta release of versino 2.0 of the then popular browser\n",
    "Netscape Navigator.\n",
    "\n",
    "* ... can modify the normal request-response cycle of a client-server system.\n",
    "\n",
    "* ... can dynamically change the appearance of a web page.\n",
    "\n",
    "* ... can react to events on the page (like mouse clicks, buttons being pressed ...)\n",
    "\n",
    "* ... can make requests independent of the browser, and without taking the browser\n",
    "to a different URL.\n",
    "\n",
    "`Rails` has built-in support for `AJAX`.  There, `JavaScript` ... \n",
    "\n",
    "* ... can make an (asynchronous) **background\n",
    "request** to obtain the latest version of a **partial**.\n",
    "\n",
    "* ... can use the returned fragment to update (only) the corresponding section\n",
    "of the page."
   ]
  },
  {
   "cell_type": "code",
   "execution_count": null,
   "metadata": {
    "collapsed": true
   },
   "outputs": [],
   "source": []
  }
 ],
 "metadata": {
  "kernelspec": {
   "display_name": "Ruby 2.3.1",
   "language": "ruby",
   "name": "ruby"
  },
  "language_info": {
   "file_extension": ".rb",
   "mimetype": "application/x-ruby",
   "name": "ruby",
   "version": "2.3.1"
  }
 },
 "nbformat": 4,
 "nbformat_minor": 2
}
